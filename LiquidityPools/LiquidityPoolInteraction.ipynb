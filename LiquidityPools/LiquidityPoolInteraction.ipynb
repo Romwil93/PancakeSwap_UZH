{
 "cells": [
  {
   "cell_type": "markdown",
   "metadata": {
    "id": "E_PNzsskyLAm"
   },
   "source": [
    "# Blockchain and Crypto Economics - Liquidity pools"
   ]
  },
  {
   "cell_type": "markdown",
   "metadata": {
    "id": "RvCkiEFSyUdp"
   },
   "source": [
    "## Set-up"
   ]
  },
  {
   "cell_type": "code",
   "execution_count": 1,
   "metadata": {},
   "outputs": [],
   "source": [
    "%%capture\n",
    "pip install web3"
   ]
  },
  {
   "cell_type": "code",
   "execution_count": 2,
   "metadata": {
    "id": "6xiLKvhyvjCa"
   },
   "outputs": [
    {
     "name": "stdout",
     "output_type": "stream",
     "text": [
      "True\n"
     ]
    }
   ],
   "source": [
    "# Import the Web3 object and establish an HTTP connection\n",
    "# See also: https://medium.com/validitylabs/\n",
    "# how-to-interact-with-the-ethereum-blockchain-and-create-a-database-with-python-and-sql-3dcbd579b3c0\n",
    "\n",
    "import web3\n",
    "from web3 import Web3\n",
    "from IPython.display import display, clear_output\n",
    "import ipywidgets as widgets\n",
    "from ipywidgets import Dropdown, BoundedFloatText\n",
    "import math\n",
    "import getpass\n",
    "import warnings\n",
    "warnings.filterwarnings('ignore')\n",
    "\n",
    "# Connecting to the UZHETH Blockchain\n",
    "web3 = Web3(Web3.HTTPProvider(\"http://localhost:8545\"))\n",
    "# Connection test\n",
    "print(web3.isConnected())"
   ]
  },
  {
   "cell_type": "code",
   "execution_count": 3,
   "metadata": {
    "id": "E4bVMt8Ix2eR"
   },
   "outputs": [],
   "source": [
    "# Connecting to deployed smart contracts\n",
    "RouterAddress, FactoryAddress = \"0x043124a8e838FfdFB968309Fe4077B274d5A4C34\", \"0x07Db82eAd90449bf347fc3A4fAAE32F86eCC8B60\"\n",
    "\n",
    "router = web3.eth.contract(address=RouterAddress, abi=open('./Router.abi', 'r').read())\n",
    "factory = web3.eth.contract(address=FactoryAddress, abi=open('./Factory.abi', 'r').read())"
   ]
  },
  {
   "cell_type": "markdown",
   "metadata": {},
   "source": [
    "### Helper funtions"
   ]
  },
  {
   "cell_type": "code",
   "execution_count": 4,
   "metadata": {},
   "outputs": [],
   "source": [
    "# Account selection helper\n",
    "nullAddress = \"0x0000000000000000000000000000000000000000\"\n",
    "selectedAccount = nullAddress\n",
    "userDropdown = Dropdown(description = \"Select account:\", options = web3.eth.accounts)\n",
    "\n",
    "def handle_change():\n",
    "    pass\n",
    "\n",
    "def selectAccount():\n",
    "    userDropdown.on_trait_change(handle_change, name=\"value\")\n",
    "    display(userDropdown)"
   ]
  },
  {
   "cell_type": "code",
   "execution_count": 39,
   "metadata": {},
   "outputs": [],
   "source": [
    "# Token selection helper\n",
    "pools, tokens = {}, {}\n",
    "\n",
    "def updateTokenDropdown(tokens):\n",
    "    tokenDropdown1 = Dropdown(description = \"Select token 1:\", options = [(tokens[i][0], i) for i in tokens.keys()])\n",
    "    tokenDropdown2 = Dropdown(description = \"Select token 2:\", options = [(tokens[i][0], i) for i in tokens.keys()])\n",
    "    \n",
    "    return tokenDropdown1, tokenDropdown2\n",
    "\n",
    "def setUpTokens(pools, tokens):\n",
    "    for i in range(0, factory.functions.countPools().call()):\n",
    "        pool = web3.eth.contract(address=factory.functions.allPools(i).call(), abi=open('./Pool.abi', 'r').read())\n",
    "        pools[pool.address] = pool\n",
    "        token0 = web3.eth.contract(address=pool.functions.token0().call(), abi=open('./ERC20.abi', 'r').read())\n",
    "        tokens[token0.address] = (token0.functions.symbol().call(), token0)\n",
    "        token1 = web3.eth.contract(address=pool.functions.token1().call(), abi=open('./ERC20.abi', 'r').read())\n",
    "        tokens[token1.address] = (token1.functions.symbol().call(), token1)\n",
    "    tokenDropdown1, tokenDropdown2 = updateTokenDropdown(tokens)\n",
    "    \n",
    "    return pools, tokens, tokenDropdown1, tokenDropdown2\n",
    "    \n",
    "def selectToken():\n",
    "    tokenDropdown1.on_trait_change(handle_change, name=\"value\")\n",
    "    tokenDropdown2.on_trait_change(handle_change, name=\"value\")\n",
    "    display(tokenDropdown1, tokenDropdown2)\n",
    "    \n",
    "def addToken(pools, tokens):\n",
    "    newToken = str(input(\"Enter token address:\"))\n",
    "    if newToken != \"\": \n",
    "        token = web3.eth.contract(address=newToken, abi=open('./ERC20.abi', 'r').read())\n",
    "        tokens[token.address] = (token.functions.symbol().call(), token)\n",
    "        print(\"Token {} successfully added\".format(tokens[token.address][0]))\n",
    "    tokenDropdown1, tokenDropdown2 = updateTokenDropdown(tokens)\n",
    "    return pools, tokens, tokenDropdown1, tokenDropdown2\n",
    "\n",
    "def confirmTokenSelection(tokenA, tokenB):\n",
    "    if tokenA == tokenB: \n",
    "        print(\"Tokens cannot be the same\")\n",
    "        return nullAddress, nullAddress, nullAddress\n",
    "    else:\n",
    "        print(\"Token selection confirmed for\", tokenA, \"and\", tokenB)\n",
    "        return tokenA, tokenB, factory.functions.getPool(tokenA, tokenB).call()\n",
    "\n",
    "def getPoolInfo(tokenA, tokenB):\n",
    "    pool = factory.functions.getPool(tokenA, tokenB).call()\n",
    "    if pool == nullAddress: \n",
    "        print(\"No pool available\")\n",
    "    else:\n",
    "        reserves = pools[pool].functions.getReserves().call()\n",
    "        if tokenA < tokenB: \n",
    "            reservesA, reservesB = reserves[0], reserves[1]\n",
    "        else:\n",
    "            reservesA, reservesB = reserves[1], reserves[0]\n",
    "        liquidity = pools[pool].functions.totalSupply().call()\n",
    "        print(\"Overview of corresponding liquidity pool\")\n",
    "        print(\"Current amount of {} in pool: {}\".format(tokens[tokenA][0], reservesA/(10**18)))\n",
    "        print(\"Current amount of {} in pool: {}\".format(tokens[tokenB][0], reservesB/(10**18)))\n",
    "        print(\"Current amount of liquidity tokens in circulation:\", liquidity/(10**18))\n",
    "    \n",
    "def getTokenAmounts(tokenA, tokenB):\n",
    "    print(\"Overview of balances of selected account\")\n",
    "    print(\"Current amount of {}: {}\".format(tokens[tokenA][0], tokens[tokenA][1].functions.balanceOf(selectedAccount).call()/(10**18)))\n",
    "    print(\"Current amount of {}: {}\".format(tokens[tokenB][0], tokens[tokenB][1].functions.balanceOf(selectedAccount).call()/(10**18)))\n",
    "    if pool == nullAddress: pass\n",
    "    else: print(\"Current amount of liquidity tokens: {}\".format(pools[pool].functions.balanceOf(selectedAccount).call()/(10**18)))\n",
    "    \n",
    "pools, tokens, tokenDropdown1, tokenDropdown2 = setUpTokens(pools, tokens)"
   ]
  },
  {
   "cell_type": "code",
   "execution_count": 31,
   "metadata": {},
   "outputs": [],
   "source": [
    "# Transactions helper\n",
    "def unlockAccount(account = str(web3.eth.default_account)):\n",
    "    print(\"Unlocking account {}\".format(account))\n",
    "    return web3.geth.personal.unlock_account(account, getpass.getpass())\n",
    "        \n",
    "def lockAccount(account = str(web3.eth.default_account)):\n",
    "    print(\"Locking account {}\".format(account))\n",
    "    return web3.geth.personal.lock_account(account)\n",
    "    \n",
    "def approveAmount(token, amount, recipient=router.address, unlocked=False):\n",
    "    if not unlocked: print(\"Account locked\")\n",
    "    if token in tokens:\n",
    "        txApproval = tokens[token][1].functions.approve(recipient, math.ceil(amount*(10**18))).transact({'from': selectedAccount})\n",
    "        txApprovalReceipt = web3.eth.wait_for_transaction_receipt(txApproval)\n",
    "        print(\"{} {} approved\".format(tokens[token][1].functions.allowance(selectedAccount, recipient).call()/(10**18), tokens[token][0]))\n",
    "    elif token in pools:\n",
    "        txApproval = pools[token].functions.approve(recipient, math.ceil(amount*(10**18))).transact({'from': selectedAccount})\n",
    "        txApprovalReceipt = web3.eth.wait_for_transaction_receipt(txApproval)\n",
    "        print(\"{} liquidity tokens approved\".format(pools[token].functions.allowance(selectedAccount, recipient).call()/(10**18)))"
   ]
  },
  {
   "cell_type": "code",
   "execution_count": 7,
   "metadata": {},
   "outputs": [],
   "source": [
    "# Exchange helper\n",
    "def setUpExchange(pool, tokens):\n",
    "    caption = widgets.Label(value=\"Exchange {} for {}\".format(tokens[tokenA][0], tokens[tokenB][0]))\n",
    "    amountIn = BoundedFloatText(value=1.0, min=0.0, max=tokens[tokenA][1].functions.balanceOf(selectedAccount).call()/(10**18), \n",
    "                                 step=0.000000000000000001, description=\"Amount in\")\n",
    "    amountOut = BoundedFloatText(value=router.functions.getQuote(tokenA, tokenB, math.ceil(amountIn.value*(10**18))).call()[0]/(10**18),\n",
    "                                 min=0.0, max=tokens[tokenA][1].functions.balanceOf(pool).call()/(10**18), \n",
    "                                 step=0.000000000000000001, description=\"Amount out\", disabled=True)\n",
    "    return caption, amountIn, amountOut\n",
    "\n",
    "def on_changeExchange(change):\n",
    "    amountOut.value = router.functions.getQuote(tokenA, tokenB, math.ceil(amountIn.value*(10**18))).call()[0]/(10**18)\n",
    "\n",
    "def interactExchange():\n",
    "    amountIn.observe(on_changeExchange, names='value')\n",
    "    display(caption, amountIn, amountOut)\n",
    "    \n",
    "def exchangeTokens(tokenIn, amountIn, tokenOut, amountOutMin=0, unlocked=False):\n",
    "    if not unlocked: print(\"Account locked\")\n",
    "    else:\n",
    "        beforeBalance = (tokens[tokenIn][1].functions.balanceOf(selectedAccount).call()/(10**18), tokens[tokenOut][1].functions.balanceOf(selectedAccount).call()/(10**18))\n",
    "        txExchange = router.functions.exchangeTokens(tokenIn, tokenOut, math.ceil(amountIn*(10**18)), amountOutMin).transact({'from': selectedAccount})\n",
    "        txExchangeReceipt = web3.eth.wait_for_transaction_receipt(txExchange)\n",
    "        afterBalance = (tokens[tokenIn][1].functions.balanceOf(selectedAccount).call()/(10**18), tokens[tokenOut][1].functions.balanceOf(selectedAccount).call()/(10**18))\n",
    "        print(\"Transaction completed: {} {} exchanged for {} {}\".format(tokens[tokenIn][0], (beforeBalance[0]-afterBalance[0])/(10**18), tokens[tokenOut][0], (afterBalance[1]-beforeBalance[1])/(10**18)))"
   ]
  },
  {
   "cell_type": "code",
   "execution_count": 41,
   "metadata": {},
   "outputs": [],
   "source": [
    "# Liquidity helper\n",
    "def setUpLiquidity(pool, tokens):\n",
    "    caption1 = widgets.Label(value=\"Set amount of {} and {} to add to liquidity pool\".format(tokens[tokenA][0], tokens[tokenB][0]))\n",
    "    amountA = BoundedFloatText(value=0.0, min=0.0, max=tokens[tokenA][1].functions.balanceOf(selectedAccount).call()/(10**18), \n",
    "                                 step=0.000000000000000001, description=\"Amount {}\".format(tokens[tokenA][0]))\n",
    "    amountB = BoundedFloatText(value=0.0, min=0.0, max=tokens[tokenB][1].functions.balanceOf(selectedAccount).call()/(10**18), \n",
    "                                 step=0.000000000000000001, description=\"Amount {}\".format(tokens[tokenB][0]))\n",
    "    caption2 = widgets.Label(value=\"Or set amount of liquidity tokens to send back to pool\")\n",
    "    amountLiquidity = BoundedFloatText(value=0.0, min=0.0, max=pools[pool].functions.balanceOf(selectedAccount).call()/(10**18), \n",
    "                                       step=0.000000000000000001, description=\"Amount liquidity tokens\")\n",
    "    return caption1, caption2, amountA, amountB, amountLiquidity\n",
    "\n",
    "def on_changeAddLiquidity(change):\n",
    "    pass\n",
    "\n",
    "def on_changeWithdrawLiquidity(change):\n",
    "    pass\n",
    "\n",
    "def interactLiquidity():\n",
    "    amountA.observe(on_changeAddLiquidity, names='value')\n",
    "    amountB.observe(on_changeAddLiquidity, names='value')\n",
    "    amountLiquidity.observe(on_changeWithdrawLiquidity, names='value')\n",
    "    display(caption1, amountA, amountB)\n",
    "    display(caption2, amountLiquidity)\n",
    "\n",
    "def addLiquidity(tokenA, amountA, tokenB, amountB, pools, unlocked=False):\n",
    "    if not unlocked: print(\"Account locked\")\n",
    "    else:\n",
    "        pool = factory.functions.getPool(tokenA, tokenB).call()\n",
    "        beforeBalance = [tokens[tokenA][1].functions.balanceOf(selectedAccount).call()/(10**18), tokens[tokenB][1].functions.balanceOf(selectedAccount).call()/(10**18)]\n",
    "        if len(pools.keys()) > 0: beforeBalance.append(pools[pool].functions.balanceOf(selectedAccount).call()/(10**18))\n",
    "        else: beforeBalance.append(0)\n",
    "        txAdd = router.functions.addLiquidity(tokenA, tokenB, math.ceil(amountA*(10**18)), math.ceil(amountB*(10**18))).transact({'from': selectedAccount})\n",
    "        txAddReceipt = web3.eth.wait_for_transaction_receipt(txAdd)\n",
    "        if len(pools.keys()) < 0: \n",
    "            pool = web3.eth.contract(address=factory.functions.getPool(tokenA, tokenB).call(), abi=open('Pool.abi', 'r').read())\n",
    "            pools[pool.address] = pool\n",
    "            pool = pool.address\n",
    "        afterBalance = [tokens[tokenA][1].functions.balanceOf(selectedAccount).call()/(10**18), tokens[tokenB][1].functions.balanceOf(selectedAccount).call()/(10**18), pools[pool].functions.balanceOf(selectedAccount).call()/(10**18)]\n",
    "        print(\"Transaction completed: {} {} and {} {} added to pool for {} liquidity tokens\".format(tokens[tokenA][0], (beforeBalance[0]-afterBalance[0])/(10**18), tokens[tokenB][0], (beforeBalance[1]-afterBalance[1])/(10**18), (afterBalance[2]-beforeBalance[2])/(10**18)))\n",
    "    return pools\n",
    "        \n",
    "def withdrawLiquidity(pool, amountLiquidity, unlocked=False):\n",
    "    if not unlocked: print(\"Account locked\")\n",
    "    else:\n",
    "        beforeBalance = (tokens[tokenA][1].functions.balanceOf(selectedAccount).call()/(10**18), tokens[tokenB][1].functions.balanceOf(selectedAccount).call()/(10**18), pools[pool].functions.balanceOf(selectedAccount).call()/(10**18))\n",
    "        txWithdraw = router.functions.withdrawLiquidity(tokenA, tokenB, math.ceil(amountLiquidity*(10**18))).transact({'from': selectedAccount})\n",
    "        txWithdrawReceipt = web3.eth.wait_for_transaction_receipt(txWithdraw)\n",
    "        afterBalance = (tokens[tokenA][1].functions.balanceOf(selectedAccount).call()/(10**18), tokens[tokenB][1].functions.balanceOf(selectedAccount).call()/(10**18), pools[pool].functions.balanceOf(selectedAccount).call()/(10**18))\n",
    "        print(\"Transaction completed: {} liquidity tokens returned to pool for {} {} and {} {}\".format((beforeBalance[2]-afterBalance[2])/(10**18), tokens[tokenA][0], (afterBalance[0]-beforeBalance[0])/(10**18), tokens[tokenB][0], (afterBalance[1]-beforeBalance[1])/(10**18)))"
   ]
  },
  {
   "cell_type": "markdown",
   "metadata": {
    "id": "AiLxOTHbyZ0X"
   },
   "source": [
    "## Interacting"
   ]
  },
  {
   "cell_type": "markdown",
   "metadata": {
    "id": "AiLxOTHbyZ0X"
   },
   "source": [
    "### Select account\n",
    "Select an account for transactions"
   ]
  },
  {
   "cell_type": "markdown",
   "metadata": {},
   "source": [
    "*Select a local account from dropdown*"
   ]
  },
  {
   "cell_type": "code",
   "execution_count": 9,
   "metadata": {
    "scrolled": true
   },
   "outputs": [
    {
     "data": {
      "application/vnd.jupyter.widget-view+json": {
       "model_id": "e24de4dd8fc8433791ca1adb3839b6d4",
       "version_major": 2,
       "version_minor": 0
      },
      "text/plain": [
       "Dropdown(description='Select account:', options=('0x2fF965D61cD315369AAA2CfED6506bd1da40248B', '0x5C5eF49707C8…"
      ]
     },
     "metadata": {},
     "output_type": "display_data"
    }
   ],
   "source": [
    "selectedAccount = selectAccount()"
   ]
  },
  {
   "cell_type": "markdown",
   "metadata": {},
   "source": [
    "*Execute to confirm account selection*"
   ]
  },
  {
   "cell_type": "code",
   "execution_count": 12,
   "metadata": {},
   "outputs": [
    {
     "name": "stdout",
     "output_type": "stream",
     "text": [
      "Account selection confirmed for 0x5C5eF49707C82ca38DB4877D0Db3E13859e308b5\n",
      "Available balance in UZHETH: 9.994481229\n"
     ]
    }
   ],
   "source": [
    "selectedAccount = userDropdown.value\n",
    "web3.eth.default_account = selectedAccount\n",
    "print(\"Account selection confirmed for\", selectedAccount)\n",
    "print(\"Available balance in UZHETH: {}\".format(web3.fromWei(web3.eth.getBalance(selectedAccount), \"ether\")))"
   ]
  },
  {
   "cell_type": "markdown",
   "metadata": {},
   "source": [
    "### Select tokens\n",
    "Select a pair of ERC20 tokens and get information on the corresponding liquidity pool and balances of the selected account."
   ]
  },
  {
   "cell_type": "markdown",
   "metadata": {},
   "source": [
    "*Execute to add ERC20 token to selection (need to add liquidity before exchanging tokens)*"
   ]
  },
  {
   "cell_type": "code",
   "execution_count": 19,
   "metadata": {
    "scrolled": true
   },
   "outputs": [
    {
     "name": "stdout",
     "output_type": "stream",
     "text": [
      "Enter token address:\n"
     ]
    }
   ],
   "source": [
    "pools, tokens, tokenDropdown1, tokenDropdown2 = addToken(pools, tokens)"
   ]
  },
  {
   "cell_type": "markdown",
   "metadata": {},
   "source": [
    "*Select ERC20 tokens from dropdown*"
   ]
  },
  {
   "cell_type": "code",
   "execution_count": 45,
   "metadata": {
    "scrolled": true
   },
   "outputs": [
    {
     "data": {
      "application/vnd.jupyter.widget-view+json": {
       "model_id": "e232119c602041f8aef87664c0ae3b61",
       "version_major": 2,
       "version_minor": 0
      },
      "text/plain": [
       "Dropdown(description='Select token 1:', options=(('TT3', '0x128A8F1a0361adA3ab1F6Bb0F4940461B3BD3f1E'), ('TT4'…"
      ]
     },
     "metadata": {},
     "output_type": "display_data"
    },
    {
     "data": {
      "application/vnd.jupyter.widget-view+json": {
       "model_id": "d6b2a13dfff041cdb95aa54ebd989999",
       "version_major": 2,
       "version_minor": 0
      },
      "text/plain": [
       "Dropdown(description='Select token 2:', options=(('TT3', '0x128A8F1a0361adA3ab1F6Bb0F4940461B3BD3f1E'), ('TT4'…"
      ]
     },
     "metadata": {},
     "output_type": "display_data"
    }
   ],
   "source": [
    "pools, tokens, tokenDropdown1, tokenDropdown2 = setUpTokens(pools, tokens)\n",
    "selectToken()"
   ]
  },
  {
   "cell_type": "markdown",
   "metadata": {},
   "source": [
    "*Execute to confirm token selection*"
   ]
  },
  {
   "cell_type": "code",
   "execution_count": 46,
   "metadata": {
    "scrolled": true
   },
   "outputs": [
    {
     "name": "stdout",
     "output_type": "stream",
     "text": [
      "Token selection confirmed for 0x1D596687e91C0Deb82aa2538858b4FBD0331141A and 0x128A8F1a0361adA3ab1F6Bb0F4940461B3BD3f1E\n"
     ]
    }
   ],
   "source": [
    "tokenA, tokenB = tokenDropdown1.value, tokenDropdown2.value\n",
    "tokenA, tokenB, pool = confirmTokenSelection(tokenA, tokenB)"
   ]
  },
  {
   "cell_type": "markdown",
   "metadata": {},
   "source": [
    "*Get information on selected liquidity pool*"
   ]
  },
  {
   "cell_type": "code",
   "execution_count": 53,
   "metadata": {
    "scrolled": true
   },
   "outputs": [
    {
     "name": "stdout",
     "output_type": "stream",
     "text": [
      "Overview of corresponding liquidity pool\n",
      "Current amount of TT4 in pool: 29.807505117973523\n",
      "Current amount of TT3 in pool: 32.47012615100116\n",
      "Current amount of liquidity tokens in circulation: 31.46402724563618\n"
     ]
    }
   ],
   "source": [
    "getPoolInfo(tokenA, tokenB)"
   ]
  },
  {
   "cell_type": "markdown",
   "metadata": {},
   "source": [
    "*Get information on currently owned amounts of tokens*"
   ]
  },
  {
   "cell_type": "code",
   "execution_count": 54,
   "metadata": {
    "scrolled": true
   },
   "outputs": [
    {
     "name": "stdout",
     "output_type": "stream",
     "text": [
      "Overview of balances of selected account\n",
      "Current amount of TT4: 18.49811350057503\n",
      "Current amount of TT3: 14.801904500339539\n",
      "Current amount of liquidity tokens: 31.46402724563618\n"
     ]
    }
   ],
   "source": [
    "getTokenAmounts(tokenA, tokenB)"
   ]
  },
  {
   "cell_type": "markdown",
   "metadata": {},
   "source": [
    "### Exchange tokens\n",
    "Exchange the first selected token against the second selected token using liquidity."
   ]
  },
  {
   "cell_type": "markdown",
   "metadata": {},
   "source": [
    "*Input token amount for exchange*"
   ]
  },
  {
   "cell_type": "code",
   "execution_count": 24,
   "metadata": {},
   "outputs": [
    {
     "data": {
      "application/vnd.jupyter.widget-view+json": {
       "model_id": "2e10ba999ad44d63907bf6c0f047afc7",
       "version_major": 2,
       "version_minor": 0
      },
      "text/plain": [
       "Label(value='Exchange TT3 for TT4')"
      ]
     },
     "metadata": {},
     "output_type": "display_data"
    },
    {
     "data": {
      "application/vnd.jupyter.widget-view+json": {
       "model_id": "56b488e0874841838bf2f3f064733422",
       "version_major": 2,
       "version_minor": 0
      },
      "text/plain": [
       "BoundedFloatText(value=1.0, description='Amount in', max=7.272030651340702, step=1e-18)"
      ]
     },
     "metadata": {},
     "output_type": "display_data"
    },
    {
     "data": {
      "application/vnd.jupyter.widget-view+json": {
       "model_id": "a00f001bb91d425eb5683d554450451f",
       "version_major": 2,
       "version_minor": 0
      },
      "text/plain": [
       "BoundedFloatText(value=1.0, description='Amount out', disabled=True, max=40.0, step=1e-18)"
      ]
     },
     "metadata": {},
     "output_type": "display_data"
    }
   ],
   "source": [
    "if len(pools.keys()) > 0:\n",
    "    caption, amountIn, amountOut = setUpExchange(pool, tokens)\n",
    "    interactExchange()\n",
    "else: print(\"No pool available. Add liquidity first.\")"
   ]
  },
  {
   "cell_type": "markdown",
   "metadata": {},
   "source": [
    "*Execute to exchange tokens*"
   ]
  },
  {
   "cell_type": "code",
   "execution_count": 49,
   "metadata": {
    "scrolled": false
   },
   "outputs": [
    {
     "name": "stdout",
     "output_type": "stream",
     "text": [
      "Unlocking account 0x5C5eF49707C82ca38DB4877D0Db3E13859e308b5\n",
      "········\n",
      "3.0 TT4 approved\n",
      "Transaction completed: TT4 3e-18 exchanged for TT3 3.857142857142857e-18\n",
      "Locking account 0x5C5eF49707C82ca38DB4877D0Db3E13859e308b5\n"
     ]
    }
   ],
   "source": [
    "unlocked = unlockAccount()\n",
    "approveAmount(tokenA, amountIn.value, unlocked=unlocked)\n",
    "exchangeTokens(tokenA, amountIn.value, tokenB, unlocked=unlocked)\n",
    "locked = lockAccount()"
   ]
  },
  {
   "cell_type": "markdown",
   "metadata": {},
   "source": [
    "### Manage liquidity\n",
    "Provide liquidity for the selected token pair in return for liquidity tokens or withdraw provided liquidity."
   ]
  },
  {
   "cell_type": "markdown",
   "metadata": {},
   "source": [
    "*Input amounts of tokens to add or amount of liquidity tokens to withdraw from pool*"
   ]
  },
  {
   "cell_type": "code",
   "execution_count": 42,
   "metadata": {},
   "outputs": [
    {
     "data": {
      "application/vnd.jupyter.widget-view+json": {
       "model_id": "4344b7542a2b422c93ec0ddb9a9d3655",
       "version_major": 2,
       "version_minor": 0
      },
      "text/plain": [
       "Label(value='Set amount of TT3 and TT4 to add to liquidity pool')"
      ]
     },
     "metadata": {},
     "output_type": "display_data"
    },
    {
     "data": {
      "application/vnd.jupyter.widget-view+json": {
       "model_id": "585caf30486e4262bbf68834356d585e",
       "version_major": 2,
       "version_minor": 0
      },
      "text/plain": [
       "BoundedFloatText(value=0.0, description='Amount TT3', max=5.625, step=1e-18)"
      ]
     },
     "metadata": {},
     "output_type": "display_data"
    },
    {
     "data": {
      "application/vnd.jupyter.widget-view+json": {
       "model_id": "7c544b89ec4d4c6580aae48e9f6700e8",
       "version_major": 2,
       "version_minor": 0
      },
      "text/plain": [
       "BoundedFloatText(value=0.0, description='Amount TT4', max=15.913483667505783, step=1e-18)"
      ]
     },
     "metadata": {},
     "output_type": "display_data"
    },
    {
     "data": {
      "application/vnd.jupyter.widget-view+json": {
       "model_id": "05094cef20234f22b79873baf2156a01",
       "version_major": 2,
       "version_minor": 0
      },
      "text/plain": [
       "Label(value='Or set amount of liquidity tokens to send back to pool')"
      ]
     },
     "metadata": {},
     "output_type": "display_data"
    },
    {
     "data": {
      "application/vnd.jupyter.widget-view+json": {
       "model_id": "d21a32f0c505408ba26815baa58a5628",
       "version_major": 2,
       "version_minor": 0
      },
      "text/plain": [
       "BoundedFloatText(value=0.0, description='Amount liquidity tokens', max=37.01958280119174, step=1e-18)"
      ]
     },
     "metadata": {},
     "output_type": "display_data"
    }
   ],
   "source": [
    "caption1, caption2, amountA, amountB, amountLiquidity = setUpLiquidity(pool, tokens)\n",
    "interactLiquidity()"
   ]
  },
  {
   "cell_type": "markdown",
   "metadata": {},
   "source": [
    "*Execute to add liquidity*"
   ]
  },
  {
   "cell_type": "code",
   "execution_count": 43,
   "metadata": {
    "scrolled": true
   },
   "outputs": [
    {
     "name": "stdout",
     "output_type": "stream",
     "text": [
      "Unlocking account 0x5C5eF49707C82ca38DB4877D0Db3E13859e308b5\n",
      "········\n",
      "5.0 TT3 approved\n",
      "10.0 TT4 approved\n",
      "Transaction completed: TT3 5e-18 and TT4 3.888888888888889e-18 added to pool for 4.444444444444443e-18 liquidity tokens\n",
      "Locking account 0x5C5eF49707C82ca38DB4877D0Db3E13859e308b5\n"
     ]
    }
   ],
   "source": [
    "unlocked = unlockAccount()\n",
    "approveAmount(tokenA, amountA.value, unlocked=unlocked)\n",
    "approveAmount(tokenB, amountB.value, unlocked=unlocked)\n",
    "pools = addLiquidity(tokenA, amountA.value, tokenB, amountB.value, pools, unlocked=unlocked)\n",
    "locked = lockAccount()"
   ]
  },
  {
   "cell_type": "markdown",
   "metadata": {},
   "source": [
    "*Execute to withdraw liquidity*"
   ]
  },
  {
   "cell_type": "code",
   "execution_count": 52,
   "metadata": {},
   "outputs": [
    {
     "name": "stdout",
     "output_type": "stream",
     "text": [
      "Unlocking account 0x5C5eF49707C82ca38DB4877D0Db3E13859e308b5\n",
      "········\n",
      "10.0 liquidity tokens approved\n",
      "Transaction completed: 1e-17 liquidity tokens returned to pool for TT4 9.473518721958136e-18 and TT3 1.031976164319668e-17\n",
      "Locking account 0x5C5eF49707C82ca38DB4877D0Db3E13859e308b5\n"
     ]
    }
   ],
   "source": [
    "unlocked = unlockAccount()\n",
    "approveAmount(pool, amountLiquidity.value, unlocked=unlocked)\n",
    "withdrawLiquidity(pool, amountLiquidity.value, unlocked=unlocked)\n",
    "locked = lockAccount()"
   ]
  },
  {
   "cell_type": "markdown",
   "metadata": {
    "id": "HjXKSqFXycSH"
   },
   "source": [
    "## Deploying\n",
    "Admin functions for deploying and setting up new instances of the router and factory contracts."
   ]
  },
  {
   "cell_type": "code",
   "execution_count": 210,
   "metadata": {
    "id": "8-0BVPU2yjp3"
   },
   "outputs": [
    {
     "name": "stdout",
     "output_type": "stream",
     "text": [
      "Enter admin address:0xF5c978Fa5c02D2a13C1Fb2dDEAf1FbA6a44eA677\n",
      "Unlocking account 0xF5c978Fa5c02D2a13C1Fb2dDEAf1FbA6a44eA677\n",
      "········\n",
      "New router deployed at 0x043124a8e838FfdFB968309Fe4077B274d5A4C34\n",
      "New factory deployed at 0x07Db82eAd90449bf347fc3A4fAAE32F86eCC8B60\n",
      "Locking account 0xF5c978Fa5c02D2a13C1Fb2dDEAf1FbA6a44eA677\n"
     ]
    },
    {
     "data": {
      "text/plain": [
       "True"
      ]
     },
     "execution_count": 210,
     "metadata": {},
     "output_type": "execute_result"
    }
   ],
   "source": [
    "# Enter admin adress (needed for deployment and initialisation of factory and router contracts)\n",
    "admin = str(input(\"Enter admin address:\"))\n",
    "\n",
    "# Deploy new instance of factory contract\n",
    "unlockAccount(admin)\n",
    "newRouter = web3.eth.contract(abi=open('./Router.abi', 'r').read(), bytecode=open('./Router.bin', 'r').read())\n",
    "txDeployRouter = newRouter.constructor(admin).transact({'from': admin})\n",
    "txDeployRouterReceipt = web3.eth.wait_for_transaction_receipt(txDeployRouter)\n",
    "router = web3.eth.contract(address=txDeployRouterReceipt.contractAddress, abi=open('./Router.abi', 'r').read())\n",
    "print(\"New router deployed at {}\".format(router.address))\n",
    "\n",
    "# Deploy new instance of router contract\n",
    "newFactory = web3.eth.contract(abi=open('./Factory.abi', 'r').read(), bytecode=open('./Factory.bin', 'r').read())\n",
    "txDeployFactory = newFactory.constructor(admin).transact({'from': admin})\n",
    "txDeployFactoryReceipt = web3.eth.wait_for_transaction_receipt(txDeployFactory)\n",
    "factory = web3.eth.contract(address=txDeployFactoryReceipt.contractAddress, abi=open('./Factory.abi', 'r').read())\n",
    "print(\"New factory deployed at {}\".format(factory.address))\n",
    "\n",
    "# Link factory and router contracts\n",
    "txSetRouter = factory.functions.setRouter(router.address).transact({'from': admin})\n",
    "txSetRouterReceipt = web3.eth.wait_for_transaction_receipt(txSetRouter)\n",
    "txSetFactory = router.functions.setFactory(factory.address).transact({'from': admin})\n",
    "txSetFactory = web3.eth.wait_for_transaction_receipt(txSetFactory)\n",
    "lockAccount(admin)\n",
    "\n",
    "# RouterAddress and FactoryAddress variables under 'Set-up' should be changed to start up with new instances next time"
   ]
  },
  {
   "cell_type": "code",
   "execution_count": null,
   "metadata": {},
   "outputs": [],
   "source": []
  }
 ],
 "metadata": {
  "colab": {
   "provenance": []
  },
  "kernelspec": {
   "display_name": "Python 3 (ipykernel)",
   "language": "python",
   "name": "python3"
  },
  "language_info": {
   "codemirror_mode": {
    "name": "ipython",
    "version": 3
   },
   "file_extension": ".py",
   "mimetype": "text/x-python",
   "name": "python",
   "nbconvert_exporter": "python",
   "pygments_lexer": "ipython3",
   "version": "3.9.12"
  }
 },
 "nbformat": 4,
 "nbformat_minor": 1
}
