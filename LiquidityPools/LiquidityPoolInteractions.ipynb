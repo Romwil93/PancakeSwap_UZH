{
  "nbformat": 4,
  "nbformat_minor": 0,
  "metadata": {
    "colab": {
      "provenance": [],
      "authorship_tag": "ABX9TyMKMLiOgRlmpE4LUvEJFZzv",
      "include_colab_link": true
    },
    "kernelspec": {
      "name": "python3",
      "display_name": "Python 3"
    },
    "language_info": {
      "name": "python"
    }
  },
  "cells": [
    {
      "cell_type": "markdown",
      "metadata": {
        "id": "view-in-github",
        "colab_type": "text"
      },
      "source": [
        "<a href=\"https://colab.research.google.com/github/Romwil93/PancakeSwap_UZH/blob/main/LiquidityPools/LiquidityPoolInteractions.ipynb\" target=\"_parent\"><img src=\"https://colab.research.google.com/assets/colab-badge.svg\" alt=\"Open In Colab\"/></a>"
      ]
    },
    {
      "cell_type": "markdown",
      "source": [
        "# Blockchain and Crypto Economics - Liquidity pools"
      ],
      "metadata": {
        "id": "E_PNzsskyLAm"
      }
    },
    {
      "cell_type": "markdown",
      "source": [
        "## Set-up"
      ],
      "metadata": {
        "id": "RvCkiEFSyUdp"
      }
    },
    {
      "cell_type": "code",
      "execution_count": null,
      "metadata": {
        "id": "6xiLKvhyvjCa"
      },
      "outputs": [],
      "source": [
        "# Import the Web3 object and establish an HTTP connection\n",
        "# See also: https://medium.com/validitylabs/\n",
        "# how-to-interact-with-the-ethereum-blockchain-and-create-a-database-with-python-and-sql-3dcbd579b3c0\n",
        "\n",
        "from web3 import Web3\n",
        "\n",
        "# Connecting to the UZHETH Blockchain\n",
        "web3 = Web3(Web3.HTTPProvider(\"http://localhost:8545\"))\n",
        "\n",
        "# Connection test\n",
        "print(web3.isConnected())"
      ]
    },
    {
      "cell_type": "code",
      "source": [
        "# Connecting to deployed smart contracts\n",
        "path = ''\n",
        "\n",
        "router = web3.eth.contract(address=\"0x1Fe0249F120Bb6DDda4b4088Df4E96552976E2A3\", abi=open(path + 'Router.abi', 'r').read())\n",
        "factory = web3.eth.contract(address=\"0xf219935e219b36eF69315c0179197E0B4318C3E2\", abi=open(path + 'Factory.abi', 'r').read())"
      ],
      "metadata": {
        "id": "E4bVMt8Ix2eR"
      },
      "execution_count": null,
      "outputs": []
    },
    {
      "cell_type": "code",
      "source": [
        "# Retrieving list of deployed liquidity pools\n"
      ],
      "metadata": {
        "id": "SykcvtQ-5Tkh"
      },
      "execution_count": null,
      "outputs": []
    },
    {
      "cell_type": "markdown",
      "source": [
        "## Interacting"
      ],
      "metadata": {
        "id": "AiLxOTHbyZ0X"
      }
    },
    {
      "cell_type": "code",
      "source": [
        "# Specify user"
      ],
      "metadata": {
        "id": "fM9DAafX69OY"
      },
      "execution_count": null,
      "outputs": []
    },
    {
      "cell_type": "markdown",
      "source": [
        "There are the following main interactions:\n",
        "* Add liquidity for token pair\n",
        "* Withdraw liquidity for token pair\n",
        "* Swap tokens using liquidity"
      ],
      "metadata": {
        "id": "SaQBfDM6yqag"
      }
    },
    {
      "cell_type": "code",
      "source": [
        "### Add liquidity ###\n",
        "# Specify token pair with amounts\n",
        "# Allow amounts (need to call from token contracts)\n",
        "# Call addLiquidity\n",
        "# Inform about successful transfer and return pool address and owned liquidity "
      ],
      "metadata": {
        "id": "ti8Ae27uyi9h"
      },
      "execution_count": null,
      "outputs": []
    },
    {
      "cell_type": "code",
      "source": [
        "### Withdraw liquidity ###\n",
        "# Specify token pair with owned liquidity\n",
        "# Allow liquidity (need to call from pool contract)\n",
        "# Call withdrawLiquidity\n",
        "# Inform about successful transfer and return pool address and owned liquidity"
      ],
      "metadata": {
        "id": "3sFlkLCK1s_x"
      },
      "execution_count": null,
      "outputs": []
    },
    {
      "cell_type": "code",
      "source": [
        "### Swap tokens ###\n",
        "# Specify IN token and amount as well as OUT token and amount\n",
        "# Allow IN amount (need to call from token contract)\n",
        "# Call swap\n",
        "# Inform about successful transfer and return OUT amount and token address"
      ],
      "metadata": {
        "id": "dZQf8qRX1tZo"
      },
      "execution_count": null,
      "outputs": []
    },
    {
      "cell_type": "markdown",
      "source": [
        "Additionally, it is possible to retrieve the following information:\n",
        "* Get a quote for swapping one token against another\n",
        "* See the total token reserves for a token pair\n",
        "* See the total liquidity for a token pair\n",
        "* Get the owned liquidity for a token pair"
      ],
      "metadata": {
        "id": "rzTcGDlxzZRS"
      }
    },
    {
      "cell_type": "code",
      "source": [
        "# Call getQuote for token pair (standardised amounts?)"
      ],
      "metadata": {
        "id": "8Os5Uz1Z15ip"
      },
      "execution_count": null,
      "outputs": []
    },
    {
      "cell_type": "code",
      "source": [
        "# Call getReserves for token pair\n",
        "\n",
        "# Call TotalLiquidity for token pair"
      ],
      "metadata": {
        "id": "epaRnf0H7h8Q"
      },
      "execution_count": null,
      "outputs": []
    },
    {
      "cell_type": "code",
      "source": [
        "# get owned amount of liquidity for token pair"
      ],
      "metadata": {
        "id": "XCSjZKgn7ico"
      },
      "execution_count": null,
      "outputs": []
    },
    {
      "cell_type": "code",
      "source": [
        "# get owned amount for token"
      ],
      "metadata": {
        "id": "lYgszYdd7iti"
      },
      "execution_count": null,
      "outputs": []
    },
    {
      "cell_type": "markdown",
      "source": [
        "## Deploying"
      ],
      "metadata": {
        "id": "HjXKSqFXycSH"
      }
    },
    {
      "cell_type": "code",
      "source": [
        "# Set admin (needed for deployment and initialisation of factory and router contracts)\n",
        "admin = '0x41DD91eEBf4E160d2E2D4C01c054f815117B5194'\n",
        "\n",
        "# Deploy new instance of factory contract\n",
        "\n",
        "# Deploy new instance of router contract\n",
        "\n",
        "# Link factory and router contracts"
      ],
      "metadata": {
        "id": "8-0BVPU2yjp3"
      },
      "execution_count": null,
      "outputs": []
    }
  ]
}