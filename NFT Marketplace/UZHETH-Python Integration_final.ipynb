{
 "cells": [
  {
   "cell_type": "markdown",
   "id": "great-tiffany",
   "metadata": {},
   "source": [
    "# Blockchain and Crypto Economics"
   ]
  },
  {
   "cell_type": "markdown",
   "id": "further-workplace",
   "metadata": {},
   "source": [
    "### NFT MARKETPLACE"
   ]
  },
  {
   "cell_type": "markdown",
   "id": "specific-guard",
   "metadata": {},
   "source": [
    "#### README\n",
    "\n",
    "The following prerequist are required so that this Notebook works as expected:\n",
    "- The NFT_marketplace.sol smart contract must be already deployed on UZHETH and the public address is known\n",
    "    Additional info: A deployment from directly from this notebook would be possible with py-solc-x. However,\n",
    "    this group encountered many compilation errors and as workaround moved this part out of this document. The \n",
    "    manual deployemnt works perfectly fine. \n",
    "    \n",
    "- The retrival of the NFT image via ipfs:// worked for while. However, while testing, pinata.cloud restricted the requets to download the image becuase we are working with a free developer account. For more details, plesae jump to the end of the NFT marketplace (inclding some code snippets). \n",
    "    \n",
    "- Start the local ETH node on your computer and and ensure two accounts are created (for the transfer of NFTs)\n",
    "    Please note: in order to unlock the account, start the local node with the following parameters: \n",
    "    >geth --datadir ~/.uzheth --http --http.port 8545 --http.corsdomain \"*\" --http.vhosts \"*\" \n",
    "     --http.api miner,eth,admin,net,web3,personal --networkid 702 --syncmode \"full\" \n",
    "     --http.addr 0.0.0.0 --allow-insecure-unlock"
   ]
  },
  {
   "cell_type": "code",
   "execution_count": null,
   "id": "permanent-parent",
   "metadata": {},
   "outputs": [],
   "source": [
    "# Import the Web3 object and establish an HTTP connection\n",
    "# See also: https://medium.com/validitylabs/\n",
    "# how-to-interact-with-the-ethereum-blockchain-and-create-a-database-with-python-and-sql-3dcbd579b3c0\n",
    "from IPython.display import display, HTML , Image\n",
    "from ipywidgets import Dropdown\n",
    "from web3 import Web3 \n",
    "import requests\n",
    "import getpass\n",
    "\n",
    "# Establish a connection to the local running node\n",
    "web3 = Web3(Web3.HTTPProvider(\"http://localhost:8545\")) # works remote node too: https://vm-216.s3it.uzh.ch \n",
    "\n",
    "# Define helper functions to retrieve the image of the corresponding NFT\n",
    "def display_NFTs(list_nfts=[]):\n",
    "    # Retrieve ipfs of each NFT\n",
    "    # list_token_URIs = []\n",
    "    for nft in list_nfts:\n",
    "        tokenId_nft = nft[0] # 1,2,3 etc.\n",
    "        \n",
    "        # Get IPFS path and remove https:// \n",
    "        token_uri = nft_contract.functions.tokenURI(tokenId_nft).call() # 'ipfs://QmZ9Q3kApo1muuM3gd3cgEa7vZeaHnHjZr9bhKZ8QhNmKz'\n",
    "        token_uri = token_uri.rsplit('//', 1)[1] # QmZ9Q3kApo1muuM3gd3cgEa7vZeaHnHjZr9bhKZ8QhNmKz\n",
    "        # list_token_URIs.append(token_uri)\n",
    "\n",
    "        # Display image\n",
    "        print(f\"NFT with tokenId: \", tokenId_nft)\n",
    "        str_image = \"./img/\" + token_uri + \".png\"\n",
    "        display(Image(filename=str_image, width = 80, height = 80))\n",
    "    return"
   ]
  },
  {
   "cell_type": "markdown",
   "id": "statistical-dispute",
   "metadata": {},
   "source": [
    "##### 1.) Select your user"
   ]
  },
  {
   "cell_type": "code",
   "execution_count": null,
   "id": "through-baghdad",
   "metadata": {},
   "outputs": [],
   "source": [
    "# Create a dropdown with all local user accounts; The later cells will depend on that selection\n",
    "def handle_change():\n",
    "    print(users_dropdown.value)\n",
    "\n",
    "# Get user accounts from the local node\n",
    "list_users = web3.eth.accounts\n",
    "users_dropdown = Dropdown(description=\"Select_User\", options=list_users)\n",
    "users_dropdown.on_trait_change(handle_change, name=\"value\")\n",
    "display(users_dropdown)"
   ]
  },
  {
   "cell_type": "code",
   "execution_count": null,
   "id": "white-guarantee",
   "metadata": {},
   "outputs": [],
   "source": [
    "# Get Dropdown selection\n",
    "selected_user = users_dropdown.value\n",
    "# selected_user = \"0xeAfeb3f4aa13CA4027cC9ae1aFe5C6102aa4C786\"\n",
    "print(\"You have selected the following user (public key): \", selected_user)\n",
    "\n",
    "# Change default account to reflect selection\n",
    "web3.eth.default_account = selected_user\n",
    "\n",
    "# Show balance of selected user\n",
    "balance_wei = web3.eth.getBalance(selected_user)\n",
    "print(f'\\nBalance in (UZH)Ether: {web3.fromWei(balance_wei, \"ether\")}')"
   ]
  },
  {
   "cell_type": "markdown",
   "id": "paperback-blackjack",
   "metadata": {},
   "source": [
    "##### 2.) Configure the Smart Contract (NFT Marketplace)"
   ]
  },
  {
   "cell_type": "code",
   "execution_count": null,
   "id": "another-ozone",
   "metadata": {},
   "outputs": [],
   "source": [
    "# Prompt user to specify the address of the deployed smart contract\n",
    "nft_marketplace_contract_addr = input() # 0xdD9B7D768f276eb9cD3fAA3176819030BfE87C86\n",
    "# nft_marketplace_contract_addr = \"0x40b6E04008DEf21Fe6bB26780074c6b3C8B1A320\""
   ]
  },
  {
   "cell_type": "code",
   "execution_count": null,
   "id": "specified-question",
   "metadata": {},
   "outputs": [],
   "source": [
    "# Interract with smart contracts\n",
    "# see also: https://medium.com/deepyr/interacting-with-ethereum-using-web3-py-and-jupyter-notebooks-e4207afa0085\n",
    "\n",
    "# ABI code of the contract; Stored in a file (copied from Remix)\n",
    "nft_marketplace_abi_path = \"./NFT_marketplace.abi\"\n",
    "obj_file = open(nft_marketplace_abi_path, \"r\")\n",
    "nft_marketplace_abi = obj_file.read()\n",
    "\n",
    "# Smart contract config \n",
    "nft_contract = web3.eth.contract(address=nft_marketplace_contract_addr, abi=nft_marketplace_abi)"
   ]
  },
  {
   "cell_type": "code",
   "execution_count": null,
   "id": "knowing-bankruptcy",
   "metadata": {},
   "outputs": [],
   "source": [
    "# Create some sample data (if needed)--> Creation of 4 NFTS\n",
    "\n",
    "# Unlock selected account (which has ben set to the default_account in the previous section)\n",
    "web3.geth.personal.unlock_account(web3.eth.default_account, \"test33test\")\n",
    "\n",
    "list_ipfs_path = [\n",
    "    \"ipfs://Qmbs5kXyhutcgfssdjLVNPT2kBd9KkWN7eAomHYoc3Av34\", \"ipfs://QmZ9Q3kApo1muuM3gd3cgEa7vZeaHnHjZr9bhKZ8QhNmKz\", \n",
    "    \"ipfs://QmZq64tEgR33Ah6ET274QgtzjUTPRoDVonwGzJVs6vxS44\", \"ipfs://QmVt6JnV99pkzSwnRyCYvHfYkXzP7nNCweuGkvZqHr8Gg4\"]\n",
    "\n",
    "for ipfs_path in list_ipfs_path: \n",
    "    print(\"Creating a NFT with metadata file: \", ipfs_path)\n",
    "    # Get current listPrice from the smart contract\n",
    "    default_value = nft_contract.functions.getListingPrice().call()\n",
    "    \n",
    "    # Create NFT \n",
    "    tx_hash = nft_contract.functions.createToken(ipfs_path, 10).transact({\n",
    "        'to': nft_marketplace_contract_addr, 'gas': 420000, 'gasPrice': 1000000000,'value': default_value})\n",
    "    \n",
    "    print(\"Transaction hash: \")\n",
    "    display(tx_hash)\n",
    "    \n",
    "    # Wait for the transaction to be mined, and get the transaction receipt\n",
    "    print(\"NFT has been created, waiting for the confirmation...\")\n",
    "    web3.eth.wait_for_transaction_receipt(tx_hash)\n",
    "    \n",
    "    print(\"Received the confirmaton.\")\n",
    "\n",
    "print(\"The creation of the NFTs have been completed.\")"
   ]
  },
  {
   "cell_type": "markdown",
   "id": "eight-giving",
   "metadata": {},
   "source": [
    "#### 3.) Mint a new NFT for the specified user"
   ]
  },
  {
   "cell_type": "code",
   "execution_count": null,
   "id": "opposite-count",
   "metadata": {},
   "outputs": [],
   "source": [
    "# First, display all NFTs that are currently listed in the marketplace.\n",
    "list_market_nfts = nft_contract.functions.fetchMarketItems().call() \n",
    "display_NFTs(list_market_nfts)"
   ]
  },
  {
   "cell_type": "code",
   "execution_count": null,
   "id": "embedded-antarctica",
   "metadata": {},
   "outputs": [],
   "source": [
    "# important: in order to unlock the account, start the local node with the following parameters:\n",
    "# geth --datadir ~/.uzheth --http --http.port 8545 --http.corsdomain \"*\" --http.vhosts \"*\" \n",
    "# --http.api miner,eth,admin,net,web3,personal --networkid 702 --syncmode \"full\" --http.addr 0.0.0.0 \n",
    "# --allow-insecure-unlock\n",
    "\n",
    "# Prompt the user get provide the password\n",
    "print(\"PLease provide the password for the selected user:\")\n",
    "password = getpass.getpass() # test33test\n",
    "# password = \"test33test\"\n",
    "\n",
    "# Unlock selected account (which has ben set to the default_account in the previous section)\n",
    "web3.geth.personal.unlock_account(web3.eth.default_account, password)\n",
    "\n",
    "# Prompt user to specify the metadata for his/her NFT\n",
    "print(\"Please specify the location of the metadata file (IPFS format):\")\n",
    "ipfs_path = input() # ipfs://QmZ9Q3kApo1muuM3gd3cgEa7vZeaHnHjZr9bhKZ8QhNmKz\n",
    "# ipfs_path = \"ipfs://QmZ9Q3kApo1muuM3gd3cgEa7vZeaHnHjZr9bhKZ8QhNmKz\"\n",
    "    \n",
    "# Default price (in WEI) to purchase this nft will be set:\n",
    "default_price = 10\n",
    "\n",
    "# Get current listPrice from the smart contract\n",
    "default_value = nft_contract.functions.getListingPrice().call()\n",
    "\n",
    "# Create token via the smart contract\n",
    "tx_hash = nft_contract.functions.createToken(ipfs_path, default_price).transact(\n",
    "    {'to': nft_marketplace_contract_addr, \n",
    "     'gas': 420000, \n",
    "     'gasPrice': 1000000000,\n",
    "     'value': default_value})\n",
    "\n",
    "# print transaction details\n",
    "print(\"your transaction details:\")\n",
    "tx_hash"
   ]
  },
  {
   "cell_type": "code",
   "execution_count": null,
   "id": "enclosed-error",
   "metadata": {},
   "outputs": [],
   "source": [
    "# Wait for the transaction to be mined, and get the transaction receipt\n",
    "tx_receipt = web3.eth.wait_for_transaction_receipt(tx_hash)\n",
    "tx_receipt"
   ]
  },
  {
   "cell_type": "code",
   "execution_count": null,
   "id": "lasting-content",
   "metadata": {},
   "outputs": [],
   "source": [
    "# Display all marketplace NFTs, it should be now one more.\n",
    "list_market_nfts = nft_contract.functions.fetchMarketItems().call() \n",
    "display_NFTs(list_nfts=list_market_nfts)"
   ]
  },
  {
   "cell_type": "markdown",
   "id": "buried-given",
   "metadata": {},
   "source": [
    "#### 4.) Buy a NFT on the marketplace"
   ]
  },
  {
   "cell_type": "code",
   "execution_count": null,
   "id": "broad-quilt",
   "metadata": {},
   "outputs": [],
   "source": [
    "# First, list my current NFTs\n",
    "list_my_nfts = nft_contract.functions.fetchMyNFTs().call() \n",
    "display_NFTs(list_my_nfts)"
   ]
  },
  {
   "cell_type": "code",
   "execution_count": null,
   "id": "introductory-passion",
   "metadata": {},
   "outputs": [],
   "source": [
    "# Ask user which NFT he/ she would like to buy from the marketplace (displayed two cells above)\n",
    "\n",
    "print(\"Plese specify which NFT you would like to buy (tokenId required):\")\n",
    "tokenId_buy = int(input())\n",
    "\n",
    "# Retrieve the price of the selected NFT\n",
    "price_nft = nft_contract.functions.getNftPrice(tokenId_buy).call() \n",
    "print(f\"The price for the selected NFT is (in WEI): {price_nft}\")\n",
    "\n",
    "# Prompt user for the password\n",
    "print(\"please provide the password.\")\n",
    "password = getpass.getpass() # test33test\n",
    "# password = \"test33test\"\n",
    "\n",
    "# unlock account and perform transacation\n",
    "web3.geth.personal.unlock_account(web3.eth.default_account, password)\n",
    "tx_hash = nft_contract.functions.createMarketSale(tokenId_buy).transact({'value': price_nft})\n",
    "tx_hash\n"
   ]
  },
  {
   "cell_type": "code",
   "execution_count": null,
   "id": "interesting-professional",
   "metadata": {},
   "outputs": [],
   "source": [
    "# Wait for the transaction to be mined, and get the transaction receipt\n",
    "tx_receipt = web3.eth.wait_for_transaction_receipt(tx_hash)\n",
    "tx_receipt"
   ]
  },
  {
   "cell_type": "code",
   "execution_count": null,
   "id": "convenient-visit",
   "metadata": {},
   "outputs": [],
   "source": [
    "# Let's check if we are the new owner of the selected NFT\n",
    "list_my_nfts = nft_contract.functions.fetchMyNFTs().call() \n",
    "display_NFTs(list_my_nfts)"
   ]
  },
  {
   "cell_type": "markdown",
   "id": "upper-european",
   "metadata": {},
   "source": [
    "#### 5.) Sell a NFT on the marketplace (and buy it with another account)"
   ]
  },
  {
   "cell_type": "code",
   "execution_count": null,
   "id": "patient-transition",
   "metadata": {},
   "outputs": [],
   "source": [
    "# First, we the user has to select a NFT \n",
    "print(\"Plese specify which NFT you would like to sell (tokenId required):\")\n",
    "tokenId_sell = int(input())\n",
    "\n",
    "print(\"Please specify the price for this NFT (In WEI):\" )\n",
    "price_sell = int(input())\n",
    "\n",
    "# Prompt user for the password\n",
    "print(\"Enter your password:\")\n",
    "password = getpass.getpass() # test33test\n",
    "# password = \"test33test\"\n",
    "\n",
    "# Get current listPrice from the smart contract\n",
    "listing_price = nft_contract.functions.getListingPrice().call()\n",
    "\n",
    "# unlock account and perform transacation\n",
    "web3.geth.personal.unlock_account(web3.eth.default_account, password)\n",
    "tx_hash = nft_contract.functions.resellToken(tokenId_sell, price_sell).transact({'value': listing_price})\n",
    "tx_hash\n"
   ]
  },
  {
   "cell_type": "code",
   "execution_count": null,
   "id": "indian-inspection",
   "metadata": {},
   "outputs": [],
   "source": [
    "# Wait for the transaction to be mined, and get the transaction receipt\n",
    "tx_receipt = web3.eth.wait_for_transaction_receipt(tx_hash)\n",
    "tx_receipt"
   ]
  },
  {
   "cell_type": "code",
   "execution_count": null,
   "id": "rental-metro",
   "metadata": {},
   "outputs": [],
   "source": [
    "# Switch the account \n",
    "def handle_change():\n",
    "    print(users_dropdown.value)\n",
    "\n",
    "list_users = web3.eth.accounts\n",
    "users_dropdown = Dropdown(description=\"Select_User\", options=list_users)\n",
    "users_dropdown.on_trait_change(handle_change, name=\"value\")\n",
    "display(users_dropdown)\n"
   ]
  },
  {
   "cell_type": "code",
   "execution_count": null,
   "id": "magnetic-league",
   "metadata": {},
   "outputs": [],
   "source": [
    "# Get Dropdown selection\n",
    "selected_user = users_dropdown.value\n",
    "selected_user = \"0x0871447e71EB6aACC87c7700453aa679A04F9159\"\n",
    "print(\"You have selected the following user (public key): \", selected_user)\n",
    "\n",
    "# Change default account to reflect selection\n",
    "web3.eth.default_account = selected_user\n",
    "\n",
    "# Show balance of selected user\n",
    "balance_wei = web3.eth.getBalance(selected_user)\n",
    "print(f'\\nBalance in (UZH)Ether: {web3.fromWei(balance_wei, \"ether\")}')"
   ]
  },
  {
   "cell_type": "code",
   "execution_count": null,
   "id": "christian-toronto",
   "metadata": {},
   "outputs": [],
   "source": [
    "# Display all NFT of this newly selceted account\n",
    "list_my_nfts = nft_contract.functions.fetchMyNFTs().call() \n",
    "display_NFTs(list_my_nfts)"
   ]
  },
  {
   "cell_type": "code",
   "execution_count": null,
   "id": "interstate-conducting",
   "metadata": {},
   "outputs": [],
   "source": [
    "# Ask user which NFT he/ she would like to buy from the marketplace\n",
    "print(\"Plese specify which NFT you would like to buy (tokenId required):\")\n",
    "tokenId_buy = int(input())\n",
    "\n",
    "# Retrieve the price of the selected NFT\n",
    "price_nft = nft_contract.functions.getNftPrice(tokenId_buy).call() \n",
    "print(f\"The price for the selected NFT is (in WEI): {price_nft}\")\n",
    "\n",
    "# Prompt user for the password\n",
    "print(\"Enter your password:\")\n",
    "password = getpass.getpass() # test33test\n",
    "# password = \"test33test\"\n",
    "\n",
    "# unlock account and perform transacation\n",
    "web3.geth.personal.unlock_account(web3.eth.default_account, password)\n",
    "tx_hash = nft_contract.functions.createMarketSale(tokenId_buy).transact({'value': price_nft})\n",
    "tx_hash"
   ]
  },
  {
   "cell_type": "code",
   "execution_count": null,
   "id": "accessory-tomato",
   "metadata": {},
   "outputs": [],
   "source": [
    "# Wait for the transaction to be mined, and get the transaction receipt\n",
    "tx_receipt = web3.eth.wait_for_transaction_receipt(tx_hash)\n",
    "tx_receipt"
   ]
  },
  {
   "cell_type": "code",
   "execution_count": null,
   "id": "handed-professor",
   "metadata": {},
   "outputs": [],
   "source": [
    "# We can see that we have bought a NTF\n",
    "list_my_nfts = nft_contract.functions.fetchMyNFTs().call() \n",
    "display_NFTs(list_my_nfts)"
   ]
  },
  {
   "cell_type": "code",
   "execution_count": null,
   "id": "passing-oregon",
   "metadata": {},
   "outputs": [],
   "source": [
    "# Display the current listing of the markeplace\n",
    "list_market_nfts = nft_contract.functions.fetchMarketItems().call() \n",
    "display_NFTs(list_nfts=list_market_nfts)"
   ]
  },
  {
   "cell_type": "code",
   "execution_count": null,
   "id": "charged-professor",
   "metadata": {},
   "outputs": [],
   "source": [
    "# end of NFT Marketplace\n",
    "\"\"\"\n",
    "Some last words: In the original version, we retrieved the images via an interface https://app.pinata.cloud/pinmanager.\n",
    "However, as shown on the image below, they have blocked our queries after a couple of tries. We therefore we forced to\n",
    "work with local image files. The associated metadata file is linked with the local images. With a payed option, we \n",
    "would be able to query the images from pinata with the ipfs links. Here the unused code to do that:\n",
    "\n",
    "def display_NFTs(list_nfts=[]):\n",
    "    # Retrieve ipfs of each NFT\n",
    "    # list_token_URIs = []\n",
    "    for nft in list_nfts:\n",
    "        tokenId_nft = nft[0] # 1,2,3 etc.\n",
    "        \n",
    "        # Sleep for one second otherwise we face problems with the image retrival\n",
    "        time.sleep(1)\n",
    "\n",
    "        # Sourcing data from external uri; This is prone to errors and therefore we will\n",
    "        # put the code in this try/except block\n",
    "        print(f\"NFT with tokenId: \", tokenId_nft)\n",
    "        try:\n",
    "            # Get tokenUri and use it to retrieve the JSON metadata file\n",
    "            token_uri = nft_contract.functions.tokenURI(tokenId_nft).call() # 'ipfs://QmZ9Q3kApo1muuM3gd3cgEa7vZeaHnHjZr9bhKZ8QhNmKz'\n",
    "            token_uri = token_uri.rsplit('//', 1)[1] # QmZ9Q3kApo1muuM3gd3cgEa7vZeaHnHjZr9bhKZ8QhNmKz\n",
    "            # list_token_URIs.append(token_uri)\n",
    "            url_metadata = \"https://gateway.pinata.cloud/ipfs/\" + token_uri # https://gateway.pinata.cloud/ipfs/QmZ9Q3kApo1muuM3gd3cgEa7vZeaHnHjZr9bhKZ8QhNmKz\n",
    "            obj_metadata_json = requests.get(url_metadata)\n",
    "            image_uri = obj_metadata_json.json()[\"image\"]\n",
    "\n",
    "            # Adjust the link and download the image\n",
    "            image_uri = image_uri.rsplit('//', 1)[1] # QmcX4K8PttnReg67EtGF2hhcCDy49VayWkVS1WCM8eayDD\n",
    "            image_uri = \"https://gateway.pinata.cloud/ipfs/\" + image_uri\n",
    "\n",
    "            # Display image\n",
    "            obj_nft_image = Image.open(requests.get(image_uri, stream=True).raw)\n",
    "            display(obj_nft_image.resize((80, 80)))\n",
    "            \n",
    "        except:\n",
    "            print(f\"Got an error while retrieving the NFT with tokenId={tokenId_nft}\")\n",
    "    return\n",
    "\n",
    "\"\"\"\n",
    "str_image = \"./img/pinata_image_query_error.png\"\n",
    "display(Image(filename=str_image, width = 500))"
   ]
  }
 ],
 "metadata": {
  "kernelspec": {
   "display_name": "Python 3",
   "language": "python",
   "name": "python3"
  },
  "language_info": {
   "codemirror_mode": {
    "name": "ipython",
    "version": 3
   },
   "file_extension": ".py",
   "mimetype": "text/x-python",
   "name": "python",
   "nbconvert_exporter": "python",
   "pygments_lexer": "ipython3",
   "version": "3.8.2"
  }
 },
 "nbformat": 4,
 "nbformat_minor": 5
}
