{
 "cells": [
  {
   "cell_type": "markdown",
   "id": "81c4551d-a16b-4610-8bf9-b45c9ed58980",
   "metadata": {},
   "source": [
    "# Import packages / libraries"
   ]
  },
  {
   "cell_type": "code",
   "execution_count": 2,
   "id": "a6fd0d70-b331-41e5-8407-32a43fbd43b8",
   "metadata": {},
   "outputs": [
    {
     "name": "stdout",
     "output_type": "stream",
     "text": [
      "Requirement already satisfied: py-solc-x in /Library/Frameworks/Python.framework/Versions/3.9/lib/python3.9/site-packages (1.1.1)\n",
      "Requirement already satisfied: semantic-version<3,>=2.8.1 in /Library/Frameworks/Python.framework/Versions/3.9/lib/python3.9/site-packages (from py-solc-x) (2.10.0)\n",
      "Requirement already satisfied: requests<3,>=2.19.0 in /Library/Frameworks/Python.framework/Versions/3.9/lib/python3.9/site-packages (from py-solc-x) (2.28.1)\n",
      "Requirement already satisfied: urllib3<1.27,>=1.21.1 in /Library/Frameworks/Python.framework/Versions/3.9/lib/python3.9/site-packages (from requests<3,>=2.19.0->py-solc-x) (1.26.3)\n",
      "Requirement already satisfied: charset-normalizer<3,>=2 in /Library/Frameworks/Python.framework/Versions/3.9/lib/python3.9/site-packages (from requests<3,>=2.19.0->py-solc-x) (2.1.1)\n",
      "Requirement already satisfied: certifi>=2017.4.17 in /Library/Frameworks/Python.framework/Versions/3.9/lib/python3.9/site-packages (from requests<3,>=2.19.0->py-solc-x) (2020.12.5)\n",
      "Requirement already satisfied: idna<4,>=2.5 in /Library/Frameworks/Python.framework/Versions/3.9/lib/python3.9/site-packages (from requests<3,>=2.19.0->py-solc-x) (2.10)\n",
      "\u001b[33mWARNING: You are using pip version 21.3.1; however, version 22.3.1 is available.\n",
      "You should consider upgrading via the '/Library/Frameworks/Python.framework/Versions/3.9/bin/python3 -m pip install --upgrade pip' command.\u001b[0m\n",
      "Note: you may need to restart the kernel to use updated packages.\n"
     ]
    }
   ],
   "source": [
    "pip install py-solc-x"
   ]
  },
  {
   "cell_type": "code",
   "execution_count": 3,
   "id": "65c0aacf-e120-4555-88cb-4b2b3ec9cee7",
   "metadata": {},
   "outputs": [],
   "source": [
    "# See reference for some code snippets for smart contracts and web3: https://coinsbench.com/how-to-deploy-and-interact-with-solidity-contracts-with-python-and-ganache-be63334323e6\n",
    "# See also: https://medium.com/validitylabs/how-to-interact-with-the-ethereum-blockchain-and-create-a-database-with-python-and-sql-3dcbd579b3c0\n",
    "# Import the Web3 object and establish an HTTP connection\n",
    "from IPython.display import display, HTML , Image\n",
    "import ipywidgets as widgets\n",
    "from ipywidgets import Dropdown\n",
    "# from PIL import Image\n",
    "from web3 import Web3 \n",
    "import requests\n",
    "import getpass\n",
    "import json\n",
    "from solcx import compile_standard, install_solc\n",
    "import termcolor\n",
    "from IPython.display import Markdown, display"
   ]
  },
  {
   "cell_type": "code",
   "execution_count": 4,
   "id": "06e7dfcc-7965-4279-8623-47c107e6a485",
   "metadata": {},
   "outputs": [],
   "source": [
    "# ignore warnings if they occur \n",
    "import warnings\n",
    "warnings.filterwarnings('ignore')"
   ]
  },
  {
   "cell_type": "code",
   "execution_count": 5,
   "id": "c16c8294-92c0-4f8e-9033-562aed06e4d1",
   "metadata": {},
   "outputs": [],
   "source": [
    "def printmd(string):\n",
    "    display(Markdown(string))"
   ]
  },
  {
   "cell_type": "code",
   "execution_count": 6,
   "id": "fc1a7f1b-1034-446e-ab11-6d7575d34f82",
   "metadata": {},
   "outputs": [
    {
     "name": "stdout",
     "output_type": "stream",
     "text": [
      "True\n",
      "['0xF5ba136D777A2843b01A5a2A6d844a944Fb3cc26', '0x24174b610C359f4a4c099117e8aDB15E270C7cC0']\n"
     ]
    }
   ],
   "source": [
    "# Connecting to the UZHETH Blockchain\n",
    "web3 = Web3(Web3.HTTPProvider(\"http://localhost:8545\"))\n",
    "\n",
    "# Connection test\n",
    "print(web3.isConnected())\n",
    "\n",
    "# check if there are accounts \n",
    "print(web3.eth.accounts)"
   ]
  },
  {
   "cell_type": "markdown",
   "id": "8d603c31-b6d1-41c2-ab77-bfc1e448dc96",
   "metadata": {},
   "source": [
    "## Load Files "
   ]
  },
  {
   "cell_type": "code",
   "execution_count": 7,
   "id": "dc5e63b8-013e-484a-a27a-edcf27111ce5",
   "metadata": {},
   "outputs": [],
   "source": [
    "# load ab and bytecode - both copied from remix \n",
    "# Interract with Smart contracts\n",
    "# see also: https://medium.com/deepyr/interacting-with-ethereum-using-web3-py-and-jupyter-notebooks-e4207afa0085\n",
    "\n",
    "# ABI code of the contract; Stored in a file (copied from Remix)\n",
    "with open(\"Programming/22_HS/PancakeSwap/TokenSwap.abi\") as tokenswap_abi_path: \n",
    "    swap_abi = tokenswap_abi_path.read()\n",
    "\n",
    "# ABI code of the contract; Stored in a file (copied from Remix)\n",
    "with open(\"Programming/22_HS/PancakeSwap/PancakeToken.abi\") as token_abi_path: \n",
    "    token_abi = token_abi_path.read()\n",
    "\n",
    "with open(\"Programming/22_HS/PancakeSwap/Swap.json\") as s:\n",
    "    swap_json = json.load(s)\n",
    "    swap_bytecode = swap_json[\"object\"]\n",
    "\n",
    "with open(\"Programming/22_HS/PancakeSwap/Token.json\") as t:\n",
    "    token_json = json.load(t)\n",
    "    token_bytecode = token_json[\"object\"]\n",
    "    \n",
    "swap_contract = web3.eth.contract(abi=swap_abi, bytecode=swap_bytecode)\n",
    "pancake_contract = web3.eth.contract(abi=token_abi, bytecode=token_bytecode)\n",
    "uzh_contract = web3.eth.contract(abi=token_abi, bytecode=token_bytecode)"
   ]
  },
  {
   "cell_type": "markdown",
   "id": "ee201a58-15fe-43f6-b0bd-c65497da70c7",
   "metadata": {},
   "source": [
    "## Functions for later usage"
   ]
  },
  {
   "cell_type": "code",
   "execution_count": 8,
   "id": "74342991-ab76-484a-9347-14d02814bcb9",
   "metadata": {},
   "outputs": [],
   "source": [
    "# function to create tokens later \n",
    "def create_token(): \n",
    "    # unlock accounts \n",
    "    unlock(selected_user_1, password_1)\n",
    "    unlock(selected_user_2, password_2)\n",
    "    printmd(\"*Accounts unlocked*\")\n",
    "    # prepare pancake and uzh tokens on the accounts of both users as selected above\n",
    "    tx_p = pancake_contract.constructor(\"Pancake Token\", \"Cake\").transact({'from': selected_user_1})\n",
    "    tx_u = uzh_contract.constructor(\"UZH Token\", \"UZHETH\").transact({'from': selected_user_2})\n",
    "    printmd(\"*Received receipt of Creating Cake Tokens*\")\n",
    "    tx_receipt_p = web3.eth.wait_for_transaction_receipt(tx_p)\n",
    "    printmd(\"*Received receipt of Creating UZH-ETH Tokens*\")\n",
    "    tx_receipt_u = web3.eth.wait_for_transaction_receipt(tx_u)\n",
    "    \n",
    "    # save address of created tokens \n",
    "    cake_address = tx_receipt_p.contractAddress\n",
    "    uzh_address = tx_receipt_u.contractAddress\n",
    "    printmd(\"*Tokens created, address can be retrieved.*\")\n",
    "    return cake_address, uzh_address\n",
    "\n",
    "# dropdown \n",
    "def handle_change():\n",
    "    print(users_dropdown.value)\n",
    "    \n",
    "# add new user \n",
    "def new_user(number):\n",
    "    description = 'Account ' + number\n",
    "    \n",
    "    dropdown = widgets.Dropdown(\n",
    "    options=list_users,\n",
    "    description=description,\n",
    "    disabled=False)\n",
    "    return dropdown\n",
    "\n",
    "#toggle selection of Cake and UZH-ETH \n",
    "def selectToggle():\n",
    "    select = widgets.ToggleButtons(\n",
    "        options=['Cake', 'UZH-ETH'],\n",
    "        description='Token to Swap:\\t',\n",
    "        disabled=False,\n",
    "        button_style='info', # 'success', 'info', 'warning', 'danger' or ''\n",
    "    )\n",
    "    return select\n",
    "\n",
    "# unlock function to unlock account everytime we use it \n",
    "def unlock(account, password):\n",
    "    web3.geth.personal.unlock_account(account, password)"
   ]
  },
  {
   "cell_type": "markdown",
   "id": "eb550fe0-44bd-4ceb-b737-dad8639e3231",
   "metadata": {},
   "source": [
    "# Start here "
   ]
  },
  {
   "cell_type": "markdown",
   "id": "aed1fc2a-1fdc-4cd1-8c36-03c1885158ab",
   "metadata": {},
   "source": [
    "## Step 1) Get Accounts"
   ]
  },
  {
   "cell_type": "code",
   "execution_count": 9,
   "id": "3befd9c6-7d8f-4fdd-8280-3ef3434fd082",
   "metadata": {},
   "outputs": [
    {
     "data": {
      "text/markdown": [
       "### Here you can select the users to swap tokens."
      ],
      "text/plain": [
       "<IPython.core.display.Markdown object>"
      ]
     },
     "metadata": {},
     "output_type": "display_data"
    },
    {
     "data": {
      "application/vnd.jupyter.widget-view+json": {
       "model_id": "2987d54244f84d1ebda60c88a9bf29ac",
       "version_major": 2,
       "version_minor": 0
      },
      "text/plain": [
       "Dropdown(description='Account 1', options=('0xF5ba136D777A2843b01A5a2A6d844a944Fb3cc26', '0x24174b610C359f4a4c…"
      ]
     },
     "metadata": {},
     "output_type": "display_data"
    },
    {
     "data": {
      "application/vnd.jupyter.widget-view+json": {
       "model_id": "c5b6155b4def41f6b41773235be5b31d",
       "version_major": 2,
       "version_minor": 0
      },
      "text/plain": [
       "Dropdown(description='Account 2', options=('0xF5ba136D777A2843b01A5a2A6d844a944Fb3cc26', '0x24174b610C359f4a4c…"
      ]
     },
     "metadata": {},
     "output_type": "display_data"
    },
    {
     "data": {
      "text/markdown": [
       "### Account 1, do you want to swap Cake tokens or UZH-ETH tokens?"
      ],
      "text/plain": [
       "<IPython.core.display.Markdown object>"
      ]
     },
     "metadata": {},
     "output_type": "display_data"
    },
    {
     "data": {
      "application/vnd.jupyter.widget-view+json": {
       "model_id": "bc46b0f869b14a0dabaf7124f00fc086",
       "version_major": 2,
       "version_minor": 0
      },
      "text/plain": [
       "ToggleButtons(button_style='info', description='Token to Swap:\\t', options=('Cake', 'UZH-ETH'), value='Cake')"
      ]
     },
     "metadata": {},
     "output_type": "display_data"
    }
   ],
   "source": [
    "# get accounts \n",
    "list_users = web3.eth.accounts\n",
    "printmd(\"### Here you can select the users to swap tokens.\")\n",
    "dropdown_1 = new_user(\"1\")\n",
    "display(dropdown_1)\n",
    "dropdown_2 = new_user(\"2\")\n",
    "display(dropdown_2)\n",
    "\n",
    "printmd(\"### Account 1, do you want to swap Cake tokens or UZH-ETH tokens?\")\n",
    "select_1 = selectToggle()\n",
    "display(select_1)"
   ]
  },
  {
   "cell_type": "code",
   "execution_count": 10,
   "id": "f74da7d0-b355-47ab-aae8-d6424702f633",
   "metadata": {},
   "outputs": [
    {
     "name": "stdout",
     "output_type": "stream",
     "text": [
      "Account 0xF5ba136D777A2843b01A5a2A6d844a944Fb3cc26 swaps tokens of Cake\n",
      "Account 0x24174b610C359f4a4c099117e8aDB15E270C7cC0 swaps tokens of UZH-ETH\n"
     ]
    }
   ],
   "source": [
    "# Get dropdown selection and selected tokens and map them \n",
    "# Goal: account 1 has cake, account 2 has uzh-eth \n",
    "select_1 = select_1.value\n",
    "\n",
    "if select_1 == \"Cake\": \n",
    "    selected_user_1 = dropdown_1.value\n",
    "    selected_user_2 = dropdown_2.value\n",
    "    select_2 = \"UZH-ETH\"\n",
    "    \n",
    "elif select_1 == \"UZH-ETH\":\n",
    "    select_1 = \"Cake\" \n",
    "    selected_user_1 = dropdown_2.value\n",
    "    selected_user_2 = dropdown_1.value\n",
    "    select_2 = \"UZH-ETH\"\n",
    "    \n",
    "print(\"Account\", selected_user_1, \"swaps tokens of\", select_1)\n",
    "print(\"Account\", selected_user_2, \"swaps tokens of\", select_2)"
   ]
  },
  {
   "cell_type": "code",
   "execution_count": 11,
   "id": "b91be9b2-a1df-4538-89d1-51e5550a0011",
   "metadata": {},
   "outputs": [
    {
     "data": {
      "text/markdown": [
       "### Please input the passwords of the accounts."
      ],
      "text/plain": [
       "<IPython.core.display.Markdown object>"
      ]
     },
     "metadata": {},
     "output_type": "display_data"
    },
    {
     "data": {
      "text/markdown": [
       "Type in the password of the following account **0xF5ba136D777A2843b01A5a2A6d844a944Fb3cc26**:"
      ],
      "text/plain": [
       "<IPython.core.display.Markdown object>"
      ]
     },
     "metadata": {},
     "output_type": "display_data"
    },
    {
     "name": "stdin",
     "output_type": "stream",
     "text": [
      " ········\n"
     ]
    },
    {
     "name": "stdout",
     "output_type": "stream",
     "text": [
      "\u001b[32mProvided password is correct.\u001b[0m\n"
     ]
    },
    {
     "data": {
      "text/markdown": [
       "---"
      ],
      "text/plain": [
       "<IPython.core.display.Markdown object>"
      ]
     },
     "metadata": {},
     "output_type": "display_data"
    },
    {
     "data": {
      "text/markdown": [
       "Type in the password of the following account **0x24174b610C359f4a4c099117e8aDB15E270C7cC0**:"
      ],
      "text/plain": [
       "<IPython.core.display.Markdown object>"
      ]
     },
     "metadata": {},
     "output_type": "display_data"
    },
    {
     "name": "stdin",
     "output_type": "stream",
     "text": [
      " ········\n"
     ]
    },
    {
     "name": "stdout",
     "output_type": "stream",
     "text": [
      "\u001b[32mProvided password is correct.\u001b[0m\n"
     ]
    }
   ],
   "source": [
    "printmd(\"### Please input the passwords of the accounts.\")\n",
    "\n",
    "def get_password():\n",
    "    password = getpass.getpass() \n",
    "    return password\n",
    "\n",
    "    \n",
    "passcheck_1 = False\n",
    "passcheck_2 = False\n",
    "\n",
    "printmd(\"Type in the password of the following account **\" + str(selected_user_1) + \"**:\")\n",
    "while passcheck_1 == False: \n",
    "    password_1 = get_password() \n",
    "\n",
    "    try: # check if passwords correct \n",
    "        unlock(selected_user_1, password_1)\n",
    "        termcolor.cprint(\"Provided password is correct.\",'green')\n",
    "        passcheck_1 = True\n",
    "        \n",
    "    except:\n",
    "        termcolor.cprint(\"Password wrong. try again.\", \"red\")\n",
    "        passcheck_1 = False  \n",
    "\n",
    "printmd(\"---\")\n",
    "printmd(\"Type in the password of the following account **\" + str(selected_user_2) + \"**:\")\n",
    "while passcheck_2 == False:\n",
    "    password_2 = get_password() \n",
    "    try: \n",
    "        unlock(selected_user_2, password_2)\n",
    "        termcolor.cprint(\"Provided password is correct.\",'green')\n",
    "        passcheck_2 = True\n",
    "        \n",
    "    except:\n",
    "        termcolor.cprint(\"Password wrong. try again.\", \"red\")\n",
    "        passcheck_2 = False  "
   ]
  },
  {
   "cell_type": "code",
   "execution_count": 12,
   "id": "886fddff-0cce-4e89-98b4-b8f95f31f802",
   "metadata": {},
   "outputs": [
    {
     "data": {
      "text/markdown": [
       "### Start of Swapping"
      ],
      "text/plain": [
       "<IPython.core.display.Markdown object>"
      ]
     },
     "metadata": {},
     "output_type": "display_data"
    },
    {
     "data": {
      "text/markdown": [
       "**Are there existing token addresses of the tokens you want to swap?**"
      ],
      "text/plain": [
       "<IPython.core.display.Markdown object>"
      ]
     },
     "metadata": {},
     "output_type": "display_data"
    },
    {
     "data": {
      "application/vnd.jupyter.widget-view+json": {
       "model_id": "98a4e7aa4c384ec289b57eb89c115d65",
       "version_major": 2,
       "version_minor": 0
      },
      "text/plain": [
       "RadioButtons(options=('no', 'yes'), value='no')"
      ]
     },
     "metadata": {},
     "output_type": "display_data"
    }
   ],
   "source": [
    "printmd(\"### Start of Swapping\")\n",
    "printmd(\"**Are there existing token addresses of the tokens you want to swap?**\")\n",
    "\n",
    "existing = widgets.RadioButtons(\n",
    "    options=['no', 'yes'],\n",
    "    disabled=False)\n",
    "display(existing)"
   ]
  },
  {
   "cell_type": "code",
   "execution_count": 13,
   "id": "6a94a739-27cd-4c89-9ff7-37991b20899a",
   "metadata": {},
   "outputs": [
    {
     "data": {
      "text/markdown": [
       "*Accounts unlocked*"
      ],
      "text/plain": [
       "<IPython.core.display.Markdown object>"
      ]
     },
     "metadata": {},
     "output_type": "display_data"
    },
    {
     "data": {
      "text/markdown": [
       "*Received receipt of Creating Cake Tokens*"
      ],
      "text/plain": [
       "<IPython.core.display.Markdown object>"
      ]
     },
     "metadata": {},
     "output_type": "display_data"
    },
    {
     "data": {
      "text/markdown": [
       "*Received receipt of Creating UZH-ETH Tokens*"
      ],
      "text/plain": [
       "<IPython.core.display.Markdown object>"
      ]
     },
     "metadata": {},
     "output_type": "display_data"
    },
    {
     "data": {
      "text/markdown": [
       "*Tokens created, address can be retrieved.*"
      ],
      "text/plain": [
       "<IPython.core.display.Markdown object>"
      ]
     },
     "metadata": {},
     "output_type": "display_data"
    }
   ],
   "source": [
    "if existing.value == \"yes\": \n",
    "    printmd(\"Please input the token addresses of both Tokens, if you do not want to create new tokens.\")\n",
    "    cake_address = input(\"Please input address of Pancake Token:\")\n",
    "    uzh_address = input(\"Please input address of UZH-ETH Token:\")\n",
    "\n",
    "elif existing.value == \"no\": # make tokens, one on each a ccount \n",
    "    cake_address, uzh_address = create_token()"
   ]
  },
  {
   "cell_type": "markdown",
   "id": "51e8460f-f326-49d5-8728-3ea98fbf562e",
   "metadata": {},
   "source": [
    "# Retrieve Tokens"
   ]
  },
  {
   "cell_type": "code",
   "execution_count": 14,
   "id": "590ffcde-552e-4816-802a-69cce9e0466d",
   "metadata": {},
   "outputs": [
    {
     "data": {
      "text/markdown": [
       "-------\n"
      ],
      "text/plain": [
       "<IPython.core.display.Markdown object>"
      ]
     },
     "metadata": {},
     "output_type": "display_data"
    },
    {
     "data": {
      "text/markdown": [
       "**Cake Token Address:** &emsp;&emsp;&emsp;0x0EaB0e3a7C15B0dE47C741147354Cc6E5d98dafc"
      ],
      "text/plain": [
       "<IPython.core.display.Markdown object>"
      ]
     },
     "metadata": {},
     "output_type": "display_data"
    },
    {
     "data": {
      "text/markdown": [
       "**UZH ETH Token Address:** &emsp;0x8a0aE33AFeDb46D6210726da5573e27651Bf74c8"
      ],
      "text/plain": [
       "<IPython.core.display.Markdown object>"
      ]
     },
     "metadata": {},
     "output_type": "display_data"
    },
    {
     "data": {
      "text/markdown": [
       "-------\n"
      ],
      "text/plain": [
       "<IPython.core.display.Markdown object>"
      ]
     },
     "metadata": {},
     "output_type": "display_data"
    },
    {
     "data": {
      "text/markdown": [
       "### Account: 0xF5ba136D777A2843b01A5a2A6d844a944Fb3cc26"
      ],
      "text/plain": [
       "<IPython.core.display.Markdown object>"
      ]
     },
     "metadata": {},
     "output_type": "display_data"
    },
    {
     "data": {
      "text/markdown": [
       "**Current Amount Cake Token:** &emsp;&emsp;&emsp;100"
      ],
      "text/plain": [
       "<IPython.core.display.Markdown object>"
      ]
     },
     "metadata": {},
     "output_type": "display_data"
    },
    {
     "data": {
      "text/markdown": [
       "**Current Amount UZH ETH Token:** &emsp;0"
      ],
      "text/plain": [
       "<IPython.core.display.Markdown object>"
      ]
     },
     "metadata": {},
     "output_type": "display_data"
    },
    {
     "data": {
      "text/markdown": [
       "-------\n"
      ],
      "text/plain": [
       "<IPython.core.display.Markdown object>"
      ]
     },
     "metadata": {},
     "output_type": "display_data"
    },
    {
     "data": {
      "text/markdown": [
       "### Account: 0x24174b610C359f4a4c099117e8aDB15E270C7cC0"
      ],
      "text/plain": [
       "<IPython.core.display.Markdown object>"
      ]
     },
     "metadata": {},
     "output_type": "display_data"
    },
    {
     "data": {
      "text/markdown": [
       "**Current Amount Cake Token:** &emsp;&emsp;&emsp;0"
      ],
      "text/plain": [
       "<IPython.core.display.Markdown object>"
      ]
     },
     "metadata": {},
     "output_type": "display_data"
    },
    {
     "data": {
      "text/markdown": [
       "**Current Amount UZH ETH Token:** &emsp;100"
      ],
      "text/plain": [
       "<IPython.core.display.Markdown object>"
      ]
     },
     "metadata": {},
     "output_type": "display_data"
    },
    {
     "data": {
      "text/markdown": [
       "-------"
      ],
      "text/plain": [
       "<IPython.core.display.Markdown object>"
      ]
     },
     "metadata": {},
     "output_type": "display_data"
    }
   ],
   "source": [
    "# call token \n",
    "pancake_token = web3.eth.contract(cake_address, abi=token_abi)\n",
    "uzh_token = web3.eth.contract(uzh_address, abi=token_abi)\n",
    "\n",
    "printmd(\"-------\\n\")\n",
    "printmd(\"**Cake Token Address:** &emsp;&emsp;&emsp;\" + str(cake_address))\n",
    "printmd(\"**UZH ETH Token Address:** &emsp;\" + str(uzh_address))\n",
    "\n",
    "printmd(\"-------\\n\")\n",
    "printmd(\"### Account: \" + str(selected_user_1))\n",
    "printmd(\"**Current Amount Cake Token:** &emsp;&emsp;&emsp;\" + str(pancake_token.functions.balanceOf(selected_user_1).call()//10**18))\n",
    "printmd(\"**Current Amount UZH ETH Token:** &emsp;\" + str(uzh_token.functions.balanceOf(selected_user_1).call()//10**18))\n",
    "\n",
    "printmd(\"-------\\n\")\n",
    "printmd(\"### Account: \" + str(selected_user_2))\n",
    "printmd(\"**Current Amount Cake Token:** &emsp;&emsp;&emsp;\" + str(pancake_token.functions.balanceOf(selected_user_2).call()//10**18))\n",
    "printmd(\"**Current Amount UZH ETH Token:** &emsp;\" + str(uzh_token.functions.balanceOf(selected_user_2).call()//10**18))\n",
    "printmd(\"-------\")"
   ]
  },
  {
   "cell_type": "markdown",
   "id": "87d1f5f7-d2a3-474f-83a2-72a727a8f1b8",
   "metadata": {},
   "source": [
    "# Step 2) Swap Smart Contract"
   ]
  },
  {
   "cell_type": "code",
   "execution_count": 15,
   "id": "b9c63d11-74d4-469f-9e6c-d76352c18d4d",
   "metadata": {},
   "outputs": [
    {
     "data": {
      "text/markdown": [
       "*Accounts unlocked*"
      ],
      "text/plain": [
       "<IPython.core.display.Markdown object>"
      ]
     },
     "metadata": {},
     "output_type": "display_data"
    },
    {
     "data": {
      "text/markdown": [
       "*Received receipt of initializing swap smart contract*"
      ],
      "text/plain": [
       "<IPython.core.display.Markdown object>"
      ]
     },
     "metadata": {},
     "output_type": "display_data"
    }
   ],
   "source": [
    "# unlock accounts again to avoid errors \n",
    "unlock(selected_user_1, password_1)\n",
    "unlock(selected_user_2, password_2)\n",
    "printmd(\"*Accounts unlocked*\")\n",
    "\n",
    "# swap smart contract \n",
    "tx_s = swap_contract.constructor(cake_address, selected_user_1, uzh_address, selected_user_2).transact({\n",
    "    'from': selected_user_2})\n",
    "tx_receipt_s = web3.eth.wait_for_transaction_receipt(tx_s)\n",
    "printmd(\"*Received receipt of initializing swap smart contract*\")"
   ]
  },
  {
   "cell_type": "code",
   "execution_count": 16,
   "id": "41ad1a44-57ed-419e-98a8-cff055a2bf6c",
   "metadata": {},
   "outputs": [
    {
     "data": {
      "text/markdown": [
       "**Swap Address:** 0x6d272EF3d6C2Cd3A98d6eeB7158b1DDf4088816A"
      ],
      "text/plain": [
       "<IPython.core.display.Markdown object>"
      ]
     },
     "metadata": {},
     "output_type": "display_data"
    }
   ],
   "source": [
    "swap = web3.eth.contract(tx_receipt_s.contractAddress, abi=swap_abi)\n",
    "swap_address = swap.address\n",
    "printmd(\"**Swap Address:** \" + str(swap_address))"
   ]
  },
  {
   "cell_type": "code",
   "execution_count": 17,
   "id": "7b972dcf-7bbf-4248-b017-09582a040244",
   "metadata": {},
   "outputs": [
    {
     "data": {
      "text/plain": [
       "AttributeDict({'blockHash': HexBytes('0x32d6244030485ebc8b4072888125781c2a97b57833b5b5e52e695e8f6b264a0b'),\n",
       " 'blockNumber': 3803173,\n",
       " 'contractAddress': '0x6d272EF3d6C2Cd3A98d6eeB7158b1DDf4088816A',\n",
       " 'cumulativeGasUsed': 725059,\n",
       " 'effectiveGasPrice': 1000000000,\n",
       " 'from': '0x24174b610C359f4a4c099117e8aDB15E270C7cC0',\n",
       " 'gasUsed': 725059,\n",
       " 'logs': [],\n",
       " 'logsBloom': HexBytes('0x00000000000000000000000000000000000000000000000000000000000000000000000000000000000000000000000000000000000000000000000000000000000000000000000000000000000000000000000000000000000000000000000000000000000000000000000000000000000000000000000000000000000000000000000000000000000000000000000000000000000000000000000000000000000000000000000000000000000000000000000000000000000000000000000000000000000000000000000000000000000000000000000000000000000000000000000000000000000000000000000000000000000000000000000000000000'),\n",
       " 'status': 1,\n",
       " 'to': None,\n",
       " 'transactionHash': HexBytes('0x764cd67950baa85b078465badeb04c90bea585b31811262596acf5ff62a1860d'),\n",
       " 'transactionIndex': 0,\n",
       " 'type': '0x0'})"
      ]
     },
     "execution_count": 17,
     "metadata": {},
     "output_type": "execute_result"
    }
   ],
   "source": [
    "tx_receipt_s"
   ]
  },
  {
   "cell_type": "markdown",
   "id": "cccc8310-63b7-4953-9dd5-1d524771993a",
   "metadata": {},
   "source": [
    "# Step 3) Swap Tokens of Two Accounts"
   ]
  },
  {
   "cell_type": "code",
   "execution_count": 18,
   "id": "f314d814-1f9f-48eb-a0ac-ff1ffd81bb4c",
   "metadata": {},
   "outputs": [
    {
     "name": "stdout",
     "output_type": "stream",
     "text": [
      "How much Cake Tokens do you want to swap?\n"
     ]
    },
    {
     "data": {
      "application/vnd.jupyter.widget-view+json": {
       "model_id": "2b7fc6cb30e549038a7d77e7e62c4eca",
       "version_major": 2,
       "version_minor": 0
      },
      "text/plain": [
       "IntSlider(value=50, continuous_update=False, description='Cake:', readout_format='.1f')"
      ]
     },
     "metadata": {},
     "output_type": "display_data"
    },
    {
     "name": "stdout",
     "output_type": "stream",
     "text": [
      "How much UZH ETH Tokens do you want to swap?\n"
     ]
    },
    {
     "data": {
      "application/vnd.jupyter.widget-view+json": {
       "model_id": "c7b6f2c712694755b9fab3a0e96f3e7e",
       "version_major": 2,
       "version_minor": 0
      },
      "text/plain": [
       "IntSlider(value=50, continuous_update=False, description='UZH-ETH:', readout_format='.1f')"
      ]
     },
     "metadata": {},
     "output_type": "display_data"
    }
   ],
   "source": [
    "# calculate how much cake user 1 can swap with uzh from user 2 \n",
    "max_cake = pancake_token.functions.balanceOf(selected_user_1).call()//10**18\n",
    "max_uzh = uzh_token.functions.balanceOf(selected_user_2).call()//10**18\n",
    "\n",
    "print(\"How much Cake Tokens do you want to swap?\")\n",
    "amount_pp = widgets.IntSlider(\n",
    "    value=50,\n",
    "    min=0,\n",
    "    max=max_cake,\n",
    "    step=1,\n",
    "    description='Cake:',\n",
    "    disabled=False,\n",
    "    continuous_update=False,\n",
    "    orientation='horizontal',\n",
    "    readout=True,\n",
    "    readout_format='.1f',\n",
    ")\n",
    "\n",
    "display(amount_pp)\n",
    "\n",
    "print(\"How much UZH ETH Tokens do you want to swap?\")\n",
    "amount_uu = widgets.IntSlider(\n",
    "    value=50,\n",
    "    min=0,\n",
    "    max=max_uzh,\n",
    "    step=1,\n",
    "    description='UZH-ETH:',\n",
    "    disabled=False,\n",
    "    continuous_update=False,\n",
    "    orientation='horizontal',\n",
    "    readout=True,\n",
    "    readout_format='.1f',\n",
    ")\n",
    "display(amount_uu)"
   ]
  },
  {
   "cell_type": "code",
   "execution_count": 19,
   "id": "9ba0c496-e48b-4ff9-b511-e3397e41b62b",
   "metadata": {},
   "outputs": [
    {
     "data": {
      "text/markdown": [
       "You want to swap: <mark>**18 Cake**</mark> Tokens with <mark>**29 UZH ETH</mark>** Tokens"
      ],
      "text/plain": [
       "<IPython.core.display.Markdown object>"
      ]
     },
     "metadata": {},
     "output_type": "display_data"
    }
   ],
   "source": [
    "amount_p = int(amount_pp.value)\n",
    "amount_u = int(amount_uu.value)\n",
    "printmd(\"You want to swap: <mark>**\"+str(amount_p)+\" Cake**</mark> Tokens with <mark>**\" + str(amount_u) + \" UZH ETH</mark>** Tokens\")"
   ]
  },
  {
   "cell_type": "markdown",
   "id": "cc995aa2-06be-405b-85e8-5f8dee004f87",
   "metadata": {},
   "source": [
    "## Allowance"
   ]
  },
  {
   "cell_type": "code",
   "execution_count": 20,
   "id": "db3eaa66-0b43-4404-a5a2-eedc03207ce9",
   "metadata": {},
   "outputs": [],
   "source": [
    "# pre-check allowance\n",
    "possible_cake = pancake_token.functions.balanceOf(selected_user_1).call()//10**18\n",
    "possible_uzh = uzh_token.functions.balanceOf(selected_user_2).call()//10**18\n",
    "if amount_p > possible_cake: \n",
    "    printmd(\"<mark>PROBLEM</mark>\") \n",
    "    print(\"You have not enough cake tokens to swap! Please try another number of tokens.\") \n",
    "    \n",
    "if amount_u > possible_uzh: \n",
    "    printmd(\"<mark>PROBLEM</mark>\") \n",
    "    print(\"You have not enough UZH-ETH tokens to swap! Please try another number of tokens.\") "
   ]
  },
  {
   "cell_type": "code",
   "execution_count": 21,
   "id": "a11815ca-abfe-4fb1-8cac-f19c56c070ec",
   "metadata": {},
   "outputs": [
    {
     "data": {
      "text/markdown": [
       "### Allowance"
      ],
      "text/plain": [
       "<IPython.core.display.Markdown object>"
      ]
     },
     "metadata": {},
     "output_type": "display_data"
    },
    {
     "data": {
      "text/markdown": [
       "*Accounts unlocked.*"
      ],
      "text/plain": [
       "<IPython.core.display.Markdown object>"
      ]
     },
     "metadata": {},
     "output_type": "display_data"
    },
    {
     "data": {
      "text/markdown": [
       "**Approve Pancake Token Swap**"
      ],
      "text/plain": [
       "<IPython.core.display.Markdown object>"
      ]
     },
     "metadata": {},
     "output_type": "display_data"
    },
    {
     "data": {
      "text/markdown": [
       "*Approved.*"
      ],
      "text/plain": [
       "<IPython.core.display.Markdown object>"
      ]
     },
     "metadata": {},
     "output_type": "display_data"
    },
    {
     "name": "stdout",
     "output_type": "stream",
     "text": [
      "Current Amount Cake Token allowed to swap:\t 18\n",
      "\n",
      "\n"
     ]
    },
    {
     "data": {
      "text/markdown": [
       "**Approve UZH ETH Token Swap**"
      ],
      "text/plain": [
       "<IPython.core.display.Markdown object>"
      ]
     },
     "metadata": {},
     "output_type": "display_data"
    },
    {
     "data": {
      "text/markdown": [
       "*Approved.*"
      ],
      "text/plain": [
       "<IPython.core.display.Markdown object>"
      ]
     },
     "metadata": {},
     "output_type": "display_data"
    },
    {
     "name": "stdout",
     "output_type": "stream",
     "text": [
      "Current Amount UZH ETH Token allowed to swap:\t 29\n"
     ]
    }
   ],
   "source": [
    "# unlock accounts with the given passwords \n",
    "printmd(\"### Allowance\")\n",
    "\n",
    "unlock(selected_user_1, password_1)\n",
    "unlock(selected_user_2, password_2)\n",
    "printmd(\"*Accounts unlocked.*\")\n",
    "\n",
    "# approve to swap given number of tokens   \n",
    "printmd(\"**Approve Pancake Token Swap**\") \n",
    "printmd(\"*Approved.*\") \n",
    "approve_p = pancake_token.functions.approve(swap_address, amount_p * 10**18).transact({'from': selected_user_1})\n",
    "approve_p_receipt = web3.eth.wait_for_transaction_receipt(approve_p)\n",
    "print(\"Current Amount Cake Token allowed to swap:\\t\",pancake_token.functions.allowance(selected_user_1, swap_address).call()//10**18)\n",
    "\n",
    "print(\"\\n\")\n",
    "printmd(\"**Approve UZH ETH Token Swap**\")\n",
    "printmd(\"*Approved.*\") \n",
    "approve_u = uzh_token.functions.approve(swap_address, amount_u * 10**18).transact({'from': selected_user_2})\n",
    "approve_u_receipt = web3.eth.wait_for_transaction_receipt(approve_u)\n",
    "print(\"Current Amount UZH ETH Token allowed to swap:\\t\",uzh_token.functions.allowance(selected_user_2, swap_address).call()//10**18)"
   ]
  },
  {
   "cell_type": "code",
   "execution_count": 24,
   "id": "b8abd5f9-5fb7-43c7-bf4f-7056480524eb",
   "metadata": {},
   "outputs": [
    {
     "data": {
      "text/markdown": [
       "*Accounts unlocked.*"
      ],
      "text/plain": [
       "<IPython.core.display.Markdown object>"
      ]
     },
     "metadata": {},
     "output_type": "display_data"
    },
    {
     "data": {
      "text/markdown": [
       "*Received receipt of swap transaction*"
      ],
      "text/plain": [
       "<IPython.core.display.Markdown object>"
      ]
     },
     "metadata": {},
     "output_type": "display_data"
    },
    {
     "data": {
      "text/markdown": [
       "Transaction done, swap successfully executed"
      ],
      "text/plain": [
       "<IPython.core.display.Markdown object>"
      ]
     },
     "metadata": {},
     "output_type": "display_data"
    }
   ],
   "source": [
    "# unlock accounts with the given passwords \n",
    "unlock(selected_user_1, password_1)\n",
    "unlock(selected_user_2, password_2)\n",
    "printmd(\"*Accounts unlocked.*\")\n",
    "tx_swap_tok = swap.functions.swap(amount_p * 10**18, amount_u * 10**18).transact({'from': selected_user_1, 'to': swap_address})\n",
    "tx_receipt_swap_tok = web3.eth.wait_for_transaction_receipt(tx_swap_tok)\n",
    "printmd(\"*Received receipt of swap transaction*\")\n",
    "printmd(\"Transaction done, swap successfully executed\")"
   ]
  },
  {
   "cell_type": "code",
   "execution_count": 30,
   "id": "f4b56fed-eb8f-4b8d-8ba8-8cd8395ad27e",
   "metadata": {},
   "outputs": [
    {
     "data": {
      "text/markdown": [
       "-------\n"
      ],
      "text/plain": [
       "<IPython.core.display.Markdown object>"
      ]
     },
     "metadata": {},
     "output_type": "display_data"
    },
    {
     "data": {
      "text/markdown": [
       "### Account: 0xF5ba136D777A2843b01A5a2A6d844a944Fb3cc26"
      ],
      "text/plain": [
       "<IPython.core.display.Markdown object>"
      ]
     },
     "metadata": {},
     "output_type": "display_data"
    },
    {
     "data": {
      "text/markdown": [
       "**Current Amount Cake Token:** &emsp;&emsp;&emsp;82"
      ],
      "text/plain": [
       "<IPython.core.display.Markdown object>"
      ]
     },
     "metadata": {},
     "output_type": "display_data"
    },
    {
     "data": {
      "text/markdown": [
       "**Current Amount UZH ETH Token:** &emsp;29"
      ],
      "text/plain": [
       "<IPython.core.display.Markdown object>"
      ]
     },
     "metadata": {},
     "output_type": "display_data"
    },
    {
     "data": {
      "text/markdown": [
       "-------\n"
      ],
      "text/plain": [
       "<IPython.core.display.Markdown object>"
      ]
     },
     "metadata": {},
     "output_type": "display_data"
    },
    {
     "data": {
      "text/markdown": [
       "### Account: 0x24174b610C359f4a4c099117e8aDB15E270C7cC0"
      ],
      "text/plain": [
       "<IPython.core.display.Markdown object>"
      ]
     },
     "metadata": {},
     "output_type": "display_data"
    },
    {
     "data": {
      "text/markdown": [
       "**Current Amount Cake Token:** &emsp;&emsp;&emsp;18"
      ],
      "text/plain": [
       "<IPython.core.display.Markdown object>"
      ]
     },
     "metadata": {},
     "output_type": "display_data"
    },
    {
     "data": {
      "text/markdown": [
       "**Current Amount UZH ETH Token:** &emsp;71"
      ],
      "text/plain": [
       "<IPython.core.display.Markdown object>"
      ]
     },
     "metadata": {},
     "output_type": "display_data"
    },
    {
     "data": {
      "text/markdown": [
       "-------"
      ],
      "text/plain": [
       "<IPython.core.display.Markdown object>"
      ]
     },
     "metadata": {},
     "output_type": "display_data"
    },
    {
     "data": {
      "text/markdown": [
       "If you want to swap again, you can start again at **step 3** if you have enough tokens.     The pre-check allowance part will give you an error message if you have not enough tokens left.     You can also start from **step 1** and input the token addresses by yourself without     creating new tokens. This way, you can **change the swap direction**,     if you have some amount of both tokens."
      ],
      "text/plain": [
       "<IPython.core.display.Markdown object>"
      ]
     },
     "metadata": {},
     "output_type": "display_data"
    },
    {
     "name": "stdout",
     "output_type": "stream",
     "text": [
      "Cake Address: 0x0EaB0e3a7C15B0dE47C741147354Cc6E5d98dafc\n",
      "UZH-ETH Address: 0x8a0aE33AFeDb46D6210726da5573e27651Bf74c8\n"
     ]
    }
   ],
   "source": [
    "printmd(\"-------\\n\")\n",
    "printmd(\"### Account: \" + str(selected_user_1))\n",
    "printmd(\"**Current Amount Cake Token:** &emsp;&emsp;&emsp;\" + str(pancake_token.functions.balanceOf(selected_user_1).call()//10**18))\n",
    "printmd(\"**Current Amount UZH ETH Token:** &emsp;\" + str(uzh_token.functions.balanceOf(selected_user_1).call()//10**18))\n",
    "\n",
    "printmd(\"-------\\n\")\n",
    "printmd(\"### Account: \" + str(selected_user_2))\n",
    "printmd(\"**Current Amount Cake Token:** &emsp;&emsp;&emsp;\" + str(pancake_token.functions.balanceOf(selected_user_2).call()//10**18))\n",
    "printmd(\"**Current Amount UZH ETH Token:** &emsp;\" + str(uzh_token.functions.balanceOf(selected_user_2).call()//10**18))\n",
    "printmd(\"-------\")\n",
    "\n",
    "printmd(\"If you want to swap again, you can start again at **step 3** if you have enough tokens. \\\n",
    "    The pre-check allowance part will give you an error message if you have not enough tokens left. \\\n",
    "    You can also start from **step 1** and input the token addresses by yourself without \\\n",
    "    creating new tokens. This way, you can **change the swap direction**, \\\n",
    "    if you have some amount of both tokens.\")\n",
    "print(\"Cake Address:\", cake_address)\n",
    "print(\"UZH-ETH Address:\", uzh_address)"
   ]
  },
  {
   "cell_type": "code",
   "execution_count": null,
   "id": "73926e1a-edb5-40bf-86b7-61669c53a703",
   "metadata": {},
   "outputs": [],
   "source": []
  }
 ],
 "metadata": {
  "kernelspec": {
   "display_name": "Python 3",
   "language": "python",
   "name": "python3"
  },
  "language_info": {
   "codemirror_mode": {
    "name": "ipython",
    "version": 3
   },
   "file_extension": ".py",
   "mimetype": "text/x-python",
   "name": "python",
   "nbconvert_exporter": "python",
   "pygments_lexer": "ipython3",
   "version": "3.9.1"
  }
 },
 "nbformat": 4,
 "nbformat_minor": 5
}
