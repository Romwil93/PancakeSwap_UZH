{
 "cells": [
  {
   "cell_type": "markdown",
   "id": "81c4551d-a16b-4610-8bf9-b45c9ed58980",
   "metadata": {},
   "source": [
    "# Import packages / libraries"
   ]
  },
  {
   "cell_type": "code",
   "execution_count": 1,
   "id": "a6fd0d70-b331-41e5-8407-32a43fbd43b8",
   "metadata": {},
   "outputs": [
    {
     "name": "stdout",
     "output_type": "stream",
     "text": [
      "Requirement already satisfied: py-solc-x in /Library/Frameworks/Python.framework/Versions/3.9/lib/python3.9/site-packages (1.1.1)\n",
      "Requirement already satisfied: requests<3,>=2.19.0 in /Library/Frameworks/Python.framework/Versions/3.9/lib/python3.9/site-packages (from py-solc-x) (2.28.1)\n",
      "Requirement already satisfied: semantic-version<3,>=2.8.1 in /Library/Frameworks/Python.framework/Versions/3.9/lib/python3.9/site-packages (from py-solc-x) (2.10.0)\n",
      "Requirement already satisfied: idna<4,>=2.5 in /Library/Frameworks/Python.framework/Versions/3.9/lib/python3.9/site-packages (from requests<3,>=2.19.0->py-solc-x) (2.10)\n",
      "Requirement already satisfied: certifi>=2017.4.17 in /Library/Frameworks/Python.framework/Versions/3.9/lib/python3.9/site-packages (from requests<3,>=2.19.0->py-solc-x) (2020.12.5)\n",
      "Requirement already satisfied: charset-normalizer<3,>=2 in /Library/Frameworks/Python.framework/Versions/3.9/lib/python3.9/site-packages (from requests<3,>=2.19.0->py-solc-x) (2.1.1)\n",
      "Requirement already satisfied: urllib3<1.27,>=1.21.1 in /Library/Frameworks/Python.framework/Versions/3.9/lib/python3.9/site-packages (from requests<3,>=2.19.0->py-solc-x) (1.26.3)\n",
      "\u001b[33mWARNING: You are using pip version 21.3.1; however, version 22.3.1 is available.\n",
      "You should consider upgrading via the '/Library/Frameworks/Python.framework/Versions/3.9/bin/python3 -m pip install --upgrade pip' command.\u001b[0m\n",
      "Note: you may need to restart the kernel to use updated packages.\n"
     ]
    }
   ],
   "source": [
    "pip install py-solc-x"
   ]
  },
  {
   "cell_type": "code",
   "execution_count": 2,
   "id": "65c0aacf-e120-4555-88cb-4b2b3ec9cee7",
   "metadata": {},
   "outputs": [],
   "source": [
    "# Import the Web3 object and establish an HTTP connection\n",
    "# See also: https://medium.com/validitylabs/how-to-interact-with-the-ethereum-blockchain-and-create-a-database-with-python-and-sql-3dcbd579b3c0\n",
    "from IPython.display import display, HTML , Image\n",
    "from ipywidgets import Dropdown\n",
    "# from PIL import Image\n",
    "from web3 import Web3 \n",
    "import requests\n",
    "import getpass\n",
    "import json\n",
    "from solcx import compile_standard, install_solc"
   ]
  },
  {
   "cell_type": "code",
   "execution_count": 3,
   "id": "06e7dfcc-7965-4279-8623-47c107e6a485",
   "metadata": {},
   "outputs": [],
   "source": [
    "import warnings\n",
    "warnings.filterwarnings('ignore')"
   ]
  },
  {
   "cell_type": "code",
   "execution_count": 142,
   "id": "fc1a7f1b-1034-446e-ab11-6d7575d34f82",
   "metadata": {},
   "outputs": [
    {
     "name": "stdout",
     "output_type": "stream",
     "text": [
      "True\n"
     ]
    }
   ],
   "source": [
    "# Connecting to the UZHETH Blockchain\n",
    "web3 = Web3(Web3.HTTPProvider(\"http://localhost:8545\"))\n",
    "\n",
    "# Connection test\n",
    "print(web3.isConnected())"
   ]
  },
  {
   "cell_type": "markdown",
   "id": "eb550fe0-44bd-4ceb-b737-dad8639e3231",
   "metadata": {},
   "source": [
    "# Get Started "
   ]
  },
  {
   "cell_type": "markdown",
   "id": "aed1fc2a-1fdc-4cd1-8c36-03c1885158ab",
   "metadata": {},
   "source": [
    "## Get Accounts"
   ]
  },
  {
   "cell_type": "code",
   "execution_count": 176,
   "id": "dc613874-b1c3-4010-b9eb-ab14a8c98a19",
   "metadata": {},
   "outputs": [
    {
     "name": "stdout",
     "output_type": "stream",
     "text": [
      "['0xF5ba136D777A2843b01A5a2A6d844a944Fb3cc26', '0x24174b610C359f4a4c099117e8aDB15E270C7cC0']\n",
      "balance 1: 27.937144086 ether\n",
      "balance 2: 20 ether\n",
      "0xF5ba136D777A2843b01A5a2A6d844a944Fb3cc26\n"
     ]
    }
   ],
   "source": [
    "print(web3.eth.accounts)\n",
    "print(\"balance 1:\", web3.fromWei(web3.eth.get_balance(web3.eth.accounts[0]), \"ether\"), \"ether\")\n",
    "print(\"balance 2:\", web3.fromWei(web3.eth.get_balance(web3.eth.accounts[1]), \"ether\"), \"ether\")\n",
    "\n",
    "web3.eth.default_account = web3.eth.accounts[0]\n",
    "\n",
    "print(web3.eth.default_account)"
   ]
  },
  {
   "cell_type": "code",
   "execution_count": 177,
   "id": "3befd9c6-7d8f-4fdd-8280-3ef3434fd082",
   "metadata": {},
   "outputs": [
    {
     "name": "stdout",
     "output_type": "stream",
     "text": [
      "Here you can select the users to swap tokens.\n"
     ]
    },
    {
     "data": {
      "application/vnd.jupyter.widget-view+json": {
       "model_id": "af840b52c8bb422f8fd7d2b2f6aa264d",
       "version_major": 2,
       "version_minor": 0
      },
      "text/plain": [
       "Dropdown(description='User 1\\t', options=('0xF5ba136D777A2843b01A5a2A6d844a944Fb3cc26', '0x24174b610C359f4a4c0…"
      ]
     },
     "metadata": {},
     "output_type": "display_data"
    },
    {
     "data": {
      "application/vnd.jupyter.widget-view+json": {
       "model_id": "19963af2c90a43928099086ad33f430f",
       "version_major": 2,
       "version_minor": 0
      },
      "text/plain": [
       "Dropdown(description='User 2\\t', options=('0xF5ba136D777A2843b01A5a2A6d844a944Fb3cc26', '0x24174b610C359f4a4c0…"
      ]
     },
     "metadata": {},
     "output_type": "display_data"
    }
   ],
   "source": [
    "def handle_change():\n",
    "    print(users_dropdown.value)\n",
    "\n",
    "def new_user(number):\n",
    "    description = \"User \" + number + \"\\t\"\n",
    "    users_dropdown = Dropdown(description=description, options=list_users)\n",
    "    users_dropdown.on_trait_change(handle_change, name=\"value\")\n",
    "    display(users_dropdown)\n",
    "    \n",
    "list_users = web3.eth.accounts\n",
    "print(\"Here you can select the users to swap tokens.\")\n",
    "\n",
    "\n",
    "# Get Dropdown selection and select two different users\n",
    "new_user(\"1\")\n",
    "selected_user_1 = users_dropdown.value\n",
    "\n",
    "new_user(\"2\")\n",
    "selected_user_2 = users_dropdown.value"
   ]
  },
  {
   "cell_type": "code",
   "execution_count": 178,
   "id": "dc5e63b8-013e-484a-a27a-edcf27111ce5",
   "metadata": {},
   "outputs": [],
   "source": [
    "#read abi\n",
    "# Interract with Smart contracts\n",
    "# see also: https://medium.com/deepyr/interacting-with-ethereum-using-web3-py-and-jupyter-notebooks-e4207afa0085\n",
    "\n",
    "# ABI code of the contract; Stored in a file (copied from Remix)\n",
    "tokenswap_abi_path = \"Programming/22_HS/PancakeSwap/TokenSwap.abi\"\n",
    "obj_file = open(tokenswap_abi_path, \"r\")\n",
    "swap_abi = obj_file.read()\n",
    "\n",
    "# ABI code of the contract; Stored in a file (copied from Remix)\n",
    "token_abi_path = \"Programming/22_HS/PancakeSwap/PancakeToken.abi\"\n",
    "obj_file = open(token_abi_path, \"r\")\n",
    "token_abi = obj_file.read()\n",
    "\n",
    "with open(\"Programming/22_HS/PancakeSwap/Swap.json\") as s:\n",
    "    swap_json = json.load(s)\n",
    "    swap_bytecode = swap_json[\"object\"]\n",
    "\n",
    "with open(\"Programming/22_HS/PancakeSwap/Token.json\") as t:\n",
    "    token_json = json.load(t)\n",
    "    token_bytecode = token_json[\"object\"]"
   ]
  },
  {
   "cell_type": "code",
   "execution_count": 179,
   "id": "55b79b5f-e7bd-45b1-899b-3c99e8cdd848",
   "metadata": {},
   "outputs": [],
   "source": [
    "swap_contract = web3.eth.contract(abi=swap_abi, bytecode=swap_bytecode)"
   ]
  },
  {
   "cell_type": "code",
   "execution_count": 180,
   "id": "b146e296-b5f3-4e1b-9281-4c2a2958b29f",
   "metadata": {},
   "outputs": [],
   "source": [
    "pancake_contract = web3.eth.contract(abi=token_abi, bytecode=token_bytecode)"
   ]
  },
  {
   "cell_type": "code",
   "execution_count": 157,
   "id": "393fef3f-74d9-43bb-8afb-b77c50b9a5d0",
   "metadata": {},
   "outputs": [],
   "source": [
    "uzh_contract = web3.eth.contract(abi=token_abi, bytecode=token_bytecode)"
   ]
  },
  {
   "cell_type": "code",
   "execution_count": 167,
   "id": "b91be9b2-a1df-4538-89d1-51e5550a0011",
   "metadata": {},
   "outputs": [
    {
     "name": "stdout",
     "output_type": "stream",
     "text": [
      "Type in the password of user 1\n"
     ]
    },
    {
     "name": "stdin",
     "output_type": "stream",
     "text": [
      " ········\n"
     ]
    },
    {
     "name": "stdout",
     "output_type": "stream",
     "text": [
      "Type in the password of user 2\n"
     ]
    },
    {
     "name": "stdin",
     "output_type": "stream",
     "text": [
      " ········\n"
     ]
    }
   ],
   "source": [
    "print(\"Type in the password of user 1\")\n",
    "password_1 = getpass.getpass() \n",
    "\n",
    "print(\"Type in the password of user 2\")\n",
    "password_2 = getpass.getpass()"
   ]
  },
  {
   "cell_type": "code",
   "execution_count": 198,
   "id": "55cfec79-bc02-4a21-ba29-84daf5cfaac8",
   "metadata": {},
   "outputs": [],
   "source": [
    "def unlock(account, password):\n",
    "    web3.geth.personal.unlock_account(account, password)\n",
    "unlock(selected_user_1, password_1)\n",
    "unlock(selected_user_2, password_2)"
   ]
  },
  {
   "cell_type": "code",
   "execution_count": 199,
   "id": "74342991-ab76-484a-9347-14d02814bcb9",
   "metadata": {},
   "outputs": [],
   "source": [
    "# make pancake and uzh tokens on the accounts of both users\n",
    "tx_p = pancake_contract.constructor(\"Pancake Token\", \"Cake\").transact({'from': selected_user_1})\n",
    "tx_u = uzh_contract.constructor(\"UZH Token\", \"UZHETH\").transact({'from': selected_user_2})"
   ]
  },
  {
   "cell_type": "code",
   "execution_count": 183,
   "id": "b708cc81-a240-4637-b96a-a6d18602508d",
   "metadata": {},
   "outputs": [
    {
     "data": {
      "text/plain": [
       "AttributeDict({'blockHash': HexBytes('0xc8968e97f1c08e89d86dd566a3eea82f645d6c5b8db9294bcea6cbe5a5ccdcf7'),\n",
       " 'blockNumber': 3788176,\n",
       " 'contractAddress': '0x598CADF941Ad911034eE7fb49f9f9347f49d895F',\n",
       " 'cumulativeGasUsed': 1181813,\n",
       " 'effectiveGasPrice': 1000000000,\n",
       " 'from': '0x24174b610C359f4a4c099117e8aDB15E270C7cC0',\n",
       " 'gasUsed': 1181813,\n",
       " 'logs': [AttributeDict({'address': '0x598CADF941Ad911034eE7fb49f9f9347f49d895F',\n",
       "   'topics': [HexBytes('0xddf252ad1be2c89b69c2b068fc378daa952ba7f163c4a11628f55a4df523b3ef'),\n",
       "    HexBytes('0x0000000000000000000000000000000000000000000000000000000000000000'),\n",
       "    HexBytes('0x00000000000000000000000024174b610c359f4a4c099117e8adb15e270c7cc0')],\n",
       "   'data': '0x0000000000000000000000000000000000000000000000056bc75e2d63100000',\n",
       "   'blockNumber': 3788176,\n",
       "   'transactionHash': HexBytes('0xada60c8eddb20b7fc5b64cb28ece33d0bc69503c318e8d1710b97ae711584a09'),\n",
       "   'transactionIndex': 0,\n",
       "   'blockHash': HexBytes('0xc8968e97f1c08e89d86dd566a3eea82f645d6c5b8db9294bcea6cbe5a5ccdcf7'),\n",
       "   'logIndex': 0,\n",
       "   'removed': False})],\n",
       " 'logsBloom': HexBytes('0x00000000000000000000000000000000000000000000000000000000000000000000000000000000000000000000000000000000000000000000000000000000000000000000000000000008000000000100000000000000000000000000000000000000020000000000000000000800000000008000000000000010000000000000000000000000000000000000000000000080000000000000000000000000000000000000000000000000000000000000000000000000000000000000000000000002000000200000010000000000008000000000000000000000000020000000000000000000000000000000000000000000000000000000000000000000'),\n",
       " 'status': 1,\n",
       " 'to': None,\n",
       " 'transactionHash': HexBytes('0xada60c8eddb20b7fc5b64cb28ece33d0bc69503c318e8d1710b97ae711584a09'),\n",
       " 'transactionIndex': 0,\n",
       " 'type': '0x0'})"
      ]
     },
     "execution_count": 183,
     "metadata": {},
     "output_type": "execute_result"
    }
   ],
   "source": [
    "tx_receipt_p = web3.eth.wait_for_transaction_receipt(tx_p)\n",
    "tx_receipt_p"
   ]
  },
  {
   "cell_type": "code",
   "execution_count": 184,
   "id": "1710f5a6-92dd-40b1-bab5-06a5f23aae6a",
   "metadata": {},
   "outputs": [
    {
     "data": {
      "text/plain": [
       "AttributeDict({'blockHash': HexBytes('0xc8968e97f1c08e89d86dd566a3eea82f645d6c5b8db9294bcea6cbe5a5ccdcf7'),\n",
       " 'blockNumber': 3788176,\n",
       " 'contractAddress': '0x324862dA26D119C5d66DB106ce71F3d72F9361a5',\n",
       " 'cumulativeGasUsed': 2363602,\n",
       " 'effectiveGasPrice': 1000000000,\n",
       " 'from': '0x24174b610C359f4a4c099117e8aDB15E270C7cC0',\n",
       " 'gasUsed': 1181789,\n",
       " 'logs': [AttributeDict({'address': '0x324862dA26D119C5d66DB106ce71F3d72F9361a5',\n",
       "   'topics': [HexBytes('0xddf252ad1be2c89b69c2b068fc378daa952ba7f163c4a11628f55a4df523b3ef'),\n",
       "    HexBytes('0x0000000000000000000000000000000000000000000000000000000000000000'),\n",
       "    HexBytes('0x00000000000000000000000024174b610c359f4a4c099117e8adb15e270c7cc0')],\n",
       "   'data': '0x0000000000000000000000000000000000000000000000056bc75e2d63100000',\n",
       "   'blockNumber': 3788176,\n",
       "   'transactionHash': HexBytes('0x75d46623b4f9a8231cded4ad34d737ce3c34f322468d58e5a2515883ffd13c99'),\n",
       "   'transactionIndex': 1,\n",
       "   'blockHash': HexBytes('0xc8968e97f1c08e89d86dd566a3eea82f645d6c5b8db9294bcea6cbe5a5ccdcf7'),\n",
       "   'logIndex': 1,\n",
       "   'removed': False})],\n",
       " 'logsBloom': HexBytes('0x00000000000000001000000000000000000000000000000000000000000000000000000000000000000000000000000000000000000000000000000000000000000000000000000000000008000000000100000000000000000000000000000000000000020000000000000000000800000000000000000000000010000000000000000000000000000000000000040000008080000000000000000000000000000000000000000000000000000000000000000000000000000000000000000000000002000000000000000000000000008000000000000000000000000020000000000000000000000000000000000000000000000000000000000000000000'),\n",
       " 'status': 1,\n",
       " 'to': None,\n",
       " 'transactionHash': HexBytes('0x75d46623b4f9a8231cded4ad34d737ce3c34f322468d58e5a2515883ffd13c99'),\n",
       " 'transactionIndex': 1,\n",
       " 'type': '0x0'})"
      ]
     },
     "execution_count": 184,
     "metadata": {},
     "output_type": "execute_result"
    }
   ],
   "source": [
    "tx_receipt_u = web3.eth.wait_for_transaction_receipt(tx_u)\n",
    "tx_receipt_u"
   ]
  },
  {
   "cell_type": "code",
   "execution_count": 185,
   "id": "590ffcde-552e-4816-802a-69cce9e0466d",
   "metadata": {},
   "outputs": [
    {
     "name": "stdout",
     "output_type": "stream",
     "text": [
      "Current Amount Cake Token:\t 100000000000000000000\n",
      "Cake Address: 0x598CADF941Ad911034eE7fb49f9f9347f49d895F\n",
      "Current Amount UZH ETH Token:\t 100000000000000000000\n",
      "UZH ETH Token Address: 0x324862dA26D119C5d66DB106ce71F3d72F9361a5\n"
     ]
    }
   ],
   "source": [
    "cake_address = tx_receipt_p.contractAddress\n",
    "pancake_token = web3.eth.contract(cake_address, abi=token_abi)\n",
    "print(\"Current Amount Cake Token:\\t\",pancake_token.functions.balanceOf(selected_user_1).call())\n",
    "print(\"Cake Address:\", cake_address)\n",
    "\n",
    "uzh_address = tx_receipt_u.contractAddress\n",
    "uzh_token = web3.eth.contract(uzh_address, abi=token_abi)\n",
    "print(\"Current Amount UZH ETH Token:\\t\", uzh_token.functions.balanceOf(selected_user_2).call())\n",
    "print(\"UZH ETH Token Address:\", uzh_address)\n",
    "#swap = web3.eth.contract(tx_receipt_s.contractAddress, abi=swap_abi)"
   ]
  },
  {
   "cell_type": "code",
   "execution_count": 200,
   "id": "b9c63d11-74d4-469f-9e6c-d76352c18d4d",
   "metadata": {},
   "outputs": [
    {
     "name": "stdout",
     "output_type": "stream",
     "text": [
      "b'\\xf7\\xddL@\\xc7\\xb2H\\r\\x88\\x82\\x8f\\x81\\xae\\x02\\x81\\xdc\\xf7\\xcfV\\xfdE\\xcd\\x83n\\t\\x95\\xadbW\\xa8\\xe08'\n"
     ]
    }
   ],
   "source": [
    "unlock(selected_user_1, password_1)\n",
    "tx_s = swap_contract.constructor(cake_address, selected_user_1, uzh_address, selected_user_2).transact({\n",
    "    'from': selected_user_1, 'gas': 420000, 'gasPrice': 1000000000})\n",
    "print(tx_s)"
   ]
  },
  {
   "cell_type": "code",
   "execution_count": 188,
   "id": "41ad1a44-57ed-419e-98a8-cff055a2bf6c",
   "metadata": {},
   "outputs": [
    {
     "name": "stdout",
     "output_type": "stream",
     "text": [
      "AttributeDict({'blockHash': HexBytes('0x639af5f0f3b222c14fc2b9f888aa8e2d1191cf2cb5017b429cc3439b9418b0ce'), 'blockNumber': 3788179, 'contractAddress': '0x7F0B802faF19057811eF7eEC6d52f67F8A8F5dc3', 'cumulativeGasUsed': 420000, 'effectiveGasPrice': 1000000000, 'from': '0x24174b610C359f4a4c099117e8aDB15E270C7cC0', 'gasUsed': 420000, 'logs': [], 'logsBloom': HexBytes('0x00000000000000000000000000000000000000000000000000000000000000000000000000000000000000000000000000000000000000000000000000000000000000000000000000000000000000000000000000000000000000000000000000000000000000000000000000000000000000000000000000000000000000000000000000000000000000000000000000000000000000000000000000000000000000000000000000000000000000000000000000000000000000000000000000000000000000000000000000000000000000000000000000000000000000000000000000000000000000000000000000000000000000000000000000000000'), 'status': 0, 'to': None, 'transactionHash': HexBytes('0x4ec3510612e8754029bb4477165c1df9f155f8b41b2f05d9e8db8ad23933b286'), 'transactionIndex': 0, 'type': '0x0'})\n",
      "\n",
      "\n",
      "Swap Address: 0x7F0B802faF19057811eF7eEC6d52f67F8A8F5dc3\n"
     ]
    }
   ],
   "source": [
    "tx_receipt_s = web3.eth.wait_for_transaction_receipt(tx_s)\n",
    "print(tx_receipt_s)\n",
    "swap = web3.eth.contract(tx_receipt_s.contractAddress, abi=swap_abi)\n",
    "swap_address = swap.address\n",
    "print(\"\\n\\nSwap Address:\",swap_address)"
   ]
  },
  {
   "cell_type": "code",
   "execution_count": 189,
   "id": "f314d814-1f9f-48eb-a0ac-ff1ffd81bb4c",
   "metadata": {},
   "outputs": [
    {
     "name": "stdin",
     "output_type": "stream",
     "text": [
      "How much Cake Tokens do you want to swap? 20\n",
      "How much UZH ETH Tokens do you want to swap? 30\n"
     ]
    }
   ],
   "source": [
    "amount_p = int(input(\"How much Cake Tokens do you want to swap?\"))\n",
    "amount_u = int(input(\"How much UZH ETH Tokens do you want to swap?\"))"
   ]
  },
  {
   "cell_type": "code",
   "execution_count": 225,
   "id": "a11815ca-abfe-4fb1-8cac-f19c56c070ec",
   "metadata": {},
   "outputs": [
    {
     "name": "stdout",
     "output_type": "stream",
     "text": [
      "Accounts unlocked.\n",
      "Current Amount Cake Token allowed to swap:\t 20000000000000000000\n",
      "Current Amount UZH ETH Token allowed to swap:\t 30000000000000000000\n"
     ]
    }
   ],
   "source": [
    "unlock(selected_user_1, password_1)\n",
    "unlock(selected_user_2, password_2)\n",
    "print(\"Accounts unlocked.\")\n",
    "\n",
    "print(\"Approve Pancake Token Swap\") \n",
    "approve_p = pancake_token.functions.approve(swap_address, amount_p * 10**18).transact({'from': selected_user_1})\n",
    "approve_p_receipt = web3.eth.wait_for_transaction_receipt(approve_p)\n",
    "print(\"Current Amount Cake Token allowed to swap:\\t\",pancake_token.functions.allowance(selected_user_1, swap_address).call())\n",
    "\n",
    "print(\"Approve UZH ETH Token Swap\")\n",
    "approve_u = uzh_token.functions.approve(swap_address, amount_u * 10**18).transact({'from': selected_user_2})\n",
    "approve_u_receipt = web3.eth.wait_for_transaction_receipt(approve_u)\n",
    "print(\"Current Amount UZH ETH Token allowed to swap:\\t\",uzh_token.functions.allowance(selected_user_2, swap_address).call())"
   ]
  },
  {
   "cell_type": "code",
   "execution_count": 226,
   "id": "3bb7ef63-cd88-4649-a906-cc96cf50b559",
   "metadata": {},
   "outputs": [
    {
     "name": "stdout",
     "output_type": "stream",
     "text": [
      "You want to swap: 20 Cake Tokens with 30 UZH ETH Tokens\n"
     ]
    }
   ],
   "source": [
    "print(\"You want to swap:\", amount_p, \"Cake Tokens with\", amount_u, \"UZH ETH Tokens\")"
   ]
  },
  {
   "cell_type": "code",
   "execution_count": 232,
   "id": "b8abd5f9-5fb7-43c7-bf4f-7056480524eb",
   "metadata": {},
   "outputs": [
    {
     "name": "stdout",
     "output_type": "stream",
     "text": [
      "Accounts unlocked.\n"
     ]
    },
    {
     "data": {
      "text/plain": [
       "AttributeDict({'blockHash': HexBytes('0x4b2b4a2d6beeb7930833009f3c7b3b7428f5c5bacc322fc36db5441ab8c18dcd'),\n",
       " 'blockNumber': 3788300,\n",
       " 'contractAddress': None,\n",
       " 'cumulativeGasUsed': 21488,\n",
       " 'effectiveGasPrice': 1000000000,\n",
       " 'from': '0x24174b610C359f4a4c099117e8aDB15E270C7cC0',\n",
       " 'gasUsed': 21488,\n",
       " 'logs': [],\n",
       " 'logsBloom': HexBytes('0x00000000000000000000000000000000000000000000000000000000000000000000000000000000000000000000000000000000000000000000000000000000000000000000000000000000000000000000000000000000000000000000000000000000000000000000000000000000000000000000000000000000000000000000000000000000000000000000000000000000000000000000000000000000000000000000000000000000000000000000000000000000000000000000000000000000000000000000000000000000000000000000000000000000000000000000000000000000000000000000000000000000000000000000000000000000'),\n",
       " 'status': 1,\n",
       " 'to': '0x24174b610C359f4a4c099117e8aDB15E270C7cC0',\n",
       " 'transactionHash': HexBytes('0x32fe4d4fc8aa4975a111df06ecfc7b69527a537448a069372818fede16b458c6'),\n",
       " 'transactionIndex': 0,\n",
       " 'type': '0x0'})"
      ]
     },
     "execution_count": 232,
     "metadata": {},
     "output_type": "execute_result"
    }
   ],
   "source": [
    "unlock(selected_user_1, password_1)\n",
    "unlock(selected_user_2, password_2)\n",
    "print(\"Accounts unlocked.\")\n",
    "\n",
    "tx_swap_tok = swap.functions.swap(amount_p * 10**18, amount_u * 10**18).transact({'from':selected_user_1, 'to':selected_user_2})\n",
    "tx_receipt_swap_tok = web3.eth.wait_for_transaction_receipt(tx_swap_tok)\n",
    "tx_receipt_swap_tok"
   ]
  },
  {
   "cell_type": "code",
   "execution_count": 233,
   "id": "c6f09f12-b6ac-46cf-8b00-924c5ceaf6f4",
   "metadata": {},
   "outputs": [
    {
     "name": "stdout",
     "output_type": "stream",
     "text": [
      "Current Amount Cake Token:\t 100000000000000000000\n",
      "Current Amount UZH ETH Token:\t 100000000000000000000\n"
     ]
    }
   ],
   "source": [
    "print(\"Current Amount Cake Token:\\t\",pancake_token.functions.balanceOf(selected_user_1).call())\n",
    "print(\"Current Amount UZH ETH Token:\\t\",pancake_token.functions.balanceOf(selected_user_2).call())"
   ]
  }
 ],
 "metadata": {
  "kernelspec": {
   "display_name": "Python 3",
   "language": "python",
   "name": "python3"
  },
  "language_info": {
   "codemirror_mode": {
    "name": "ipython",
    "version": 3
   },
   "file_extension": ".py",
   "mimetype": "text/x-python",
   "name": "python",
   "nbconvert_exporter": "python",
   "pygments_lexer": "ipython3",
   "version": "3.9.1"
  }
 },
 "nbformat": 4,
 "nbformat_minor": 5
}
