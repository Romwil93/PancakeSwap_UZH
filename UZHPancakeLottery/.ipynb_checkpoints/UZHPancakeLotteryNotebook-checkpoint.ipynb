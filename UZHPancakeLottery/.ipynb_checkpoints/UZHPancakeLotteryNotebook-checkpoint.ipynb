{
 "cells": [
  {
   "cell_type": "markdown",
   "id": "great-tiffany",
   "metadata": {},
   "source": [
    "# Blockchain and Crypto Economics - Pancake Lottery Contract"
   ]
  },
  {
   "cell_type": "markdown",
   "id": "d499b1cc",
   "metadata": {},
   "source": [
    "# Loading the Modules and connecting to UZHETH Blockchain"
   ]
  },
  {
   "cell_type": "code",
   "execution_count": 14,
   "id": "permanent-parent",
   "metadata": {},
   "outputs": [
    {
     "name": "stdout",
     "output_type": "stream",
     "text": [
      "True\n"
     ]
    }
   ],
   "source": [
    "# Import the Web3 object and establish an HTTP connection\n",
    "# See also: https://medium.com/validitylabs/\n",
    "# how-to-interact-with-the-ethereum-blockchain-and-create-a-database-with-python-and-sql-3dcbd579b3c0\n",
    "\n",
    "from web3 import Web3 \n",
    "\n",
    "\n",
    "# Connecting to the UZHETH Blockchain\n",
    "web3 = Web3(Web3.HTTPProvider(\"http://localhost:8545\"))\n",
    "\n",
    "# Connection test\n",
    "print(web3.isConnected())"
   ]
  },
  {
   "cell_type": "markdown",
   "id": "7fe269cd",
   "metadata": {},
   "source": [
    "# Get the Account address & balance of lottery players"
   ]
  },
  {
   "cell_type": "markdown",
   "id": "33dbb412",
   "metadata": {},
   "source": [
    "## Player 0 - Lottery owner"
   ]
  },
  {
   "cell_type": "code",
   "execution_count": 15,
   "id": "7a99700d",
   "metadata": {},
   "outputs": [
    {
     "name": "stdout",
     "output_type": "stream",
     "text": [
      "0x82179f5b9d17F3c982c8C131CfaE6Fe1E88387EF\n",
      "8.995337545\n"
     ]
    }
   ],
   "source": [
    "print(web3.eth.accounts[0])\n",
    "print(web3.fromWei(web3.eth.get_balance(web3.eth.accounts[0]), \"ether\"))"
   ]
  },
  {
   "cell_type": "markdown",
   "id": "6126a637",
   "metadata": {},
   "source": [
    "## Player 1"
   ]
  },
  {
   "cell_type": "code",
   "execution_count": 16,
   "id": "37129da8",
   "metadata": {},
   "outputs": [
    {
     "name": "stdout",
     "output_type": "stream",
     "text": [
      "0x79e741a010B4AEA0fAa42582C13C802B5Bfe090D\n",
      "6\n"
     ]
    }
   ],
   "source": [
    "print(web3.eth.accounts[1])\n",
    "print(web3.fromWei(web3.eth.get_balance(web3.eth.accounts[1]), \"ether\"))"
   ]
  },
  {
   "cell_type": "markdown",
   "id": "15dd6c92",
   "metadata": {},
   "source": [
    "## Player 2"
   ]
  },
  {
   "cell_type": "code",
   "execution_count": 17,
   "id": "65f18304",
   "metadata": {},
   "outputs": [
    {
     "name": "stdout",
     "output_type": "stream",
     "text": [
      "0x37bD50787D6db5a0AC116434E1bEa40FF0860F2c\n",
      "6\n"
     ]
    }
   ],
   "source": [
    "print(web3.eth.accounts[2])\n",
    "print(web3.fromWei(web3.eth.get_balance(web3.eth.accounts[2]), \"ether\"))"
   ]
  },
  {
   "cell_type": "markdown",
   "id": "fe6e5767",
   "metadata": {},
   "source": [
    "## Player 3"
   ]
  },
  {
   "cell_type": "code",
   "execution_count": 18,
   "id": "abb459b8",
   "metadata": {},
   "outputs": [
    {
     "name": "stdout",
     "output_type": "stream",
     "text": [
      "0x926895b66f1f431d881B3fda6Aa45C5FF485067D\n",
      "6\n"
     ]
    }
   ],
   "source": [
    "print(web3.eth.accounts[3])\n",
    "print(web3.fromWei(web3.eth.get_balance(web3.eth.accounts[3]), \"ether\"))"
   ]
  },
  {
   "cell_type": "markdown",
   "id": "3c2740f5",
   "metadata": {},
   "source": [
    "## Player 4"
   ]
  },
  {
   "cell_type": "code",
   "execution_count": 19,
   "id": "cc36f915",
   "metadata": {},
   "outputs": [
    {
     "name": "stdout",
     "output_type": "stream",
     "text": [
      "0x8F62674dfB637CD331F366c46ec87D8682eB9e8e\n",
      "6\n"
     ]
    }
   ],
   "source": [
    "print(web3.eth.accounts[4])\n",
    "print(web3.fromWei(web3.eth.get_balance(web3.eth.accounts[4]), \"ether\"))"
   ]
  },
  {
   "cell_type": "code",
   "execution_count": 20,
   "id": "8ca15fdd",
   "metadata": {},
   "outputs": [],
   "source": [
    "web3.eth.default_account = web3.eth.accounts[0]\n"
   ]
  },
  {
   "cell_type": "markdown",
   "id": "1d3bc439",
   "metadata": {},
   "source": [
    "# Here we do create an instance of the lottery contract"
   ]
  },
  {
   "cell_type": "code",
   "execution_count": 21,
   "id": "a7d3ed26",
   "metadata": {},
   "outputs": [],
   "source": [
    "#read abi\n",
    "# Interract with Smart contracts\n",
    "# see also: https://medium.com/deepyr/interacting-with-ethereum-using-web3-py-and-jupyter-notebooks-e4207afa0085\n",
    "\n",
    "# ABI code of the contract; Stored in a file (copied from Remix)\n",
    "lottery_abi_path = \"./UZHPancakeLottery.abi\"\n",
    "obj_file = open(lottery_abi_path, \"r\")\n",
    "lottery_abi = obj_file.read()\n",
    "\n",
    "# Create an instance of the contract object\n",
    "contract = web3.eth.contract(address=\"0xf240c69Bc40391816bdd1EaDa83fb8A6Bb6d0c85\", abi=lottery_abi)"
   ]
  },
  {
   "cell_type": "markdown",
   "id": "74baf55a",
   "metadata": {},
   "source": [
    "# Starting the lottery with function call BeginLottery"
   ]
  },
  {
   "cell_type": "code",
   "execution_count": 89,
   "id": "b1a051dd",
   "metadata": {},
   "outputs": [
    {
     "data": {
      "text/plain": [
       "HexBytes('0x0ec431d793134f645c78dcd428ee48908e0751c91b6a8c135a276870be5f8c31')"
      ]
     },
     "execution_count": 89,
     "metadata": {},
     "output_type": "execute_result"
    }
   ],
   "source": [
    "#Use ownwer account\n",
    "web3.eth.default_account = web3.eth.accounts[0]\n",
    "\n",
    "# Unlock selected account (which has ben set to the default_account in the previous section)\n",
    "web3.geth.personal.unlock_account(web3.eth.default_account, \"Tennis1833\")\n",
    "\n",
    "# Call a function on the contract\n",
    "tx_hash = contract.functions.BeginLottery().transact({\n",
    "     'gas': 420000, \n",
    "     'gasPrice': 1000000000})\n",
    "\n",
    "print(tx_hash)"
   ]
  },
  {
   "cell_type": "markdown",
   "id": "d077d834",
   "metadata": {},
   "source": [
    "## Ask for winning numbers just for test purposes!!!!"
   ]
  },
  {
   "cell_type": "code",
   "execution_count": 88,
   "id": "ebf7d24d",
   "metadata": {},
   "outputs": [
    {
     "data": {
      "text/plain": [
       "[6, 8, 1, 1, 1, 0]"
      ]
     },
     "execution_count": 88,
     "metadata": {},
     "output_type": "execute_result"
    }
   ],
   "source": [
    "tx_hash = contract.functions.getWinningNumber().call( )\n",
    "print(tx_hash)"
   ]
  },
  {
   "cell_type": "markdown",
   "id": "f17e39da",
   "metadata": {},
   "source": [
    "# Ask for ticket price - to know how much we have to send"
   ]
  },
  {
   "cell_type": "code",
   "execution_count": 62,
   "id": "a612ff6b",
   "metadata": {},
   "outputs": [
    {
     "data": {
      "text/plain": [
       "5"
      ]
     },
     "execution_count": 62,
     "metadata": {},
     "output_type": "execute_result"
    }
   ],
   "source": [
    "tx_hash = contract.functions.getTicketPrice().call( )\n",
    "print(tx_hash)"
   ]
  },
  {
   "cell_type": "markdown",
   "id": "501fb657",
   "metadata": {},
   "source": [
    "# Enter Lottery with required ETH"
   ]
  },
  {
   "cell_type": "markdown",
   "id": "5a94ca0d",
   "metadata": {},
   "source": [
    "## Player 0 (owner) enters the lottery"
   ]
  },
  {
   "cell_type": "code",
   "execution_count": 65,
   "id": "17f22373",
   "metadata": {},
   "outputs": [
    {
     "data": {
      "text/plain": [
       "True"
      ]
     },
     "execution_count": 65,
     "metadata": {},
     "output_type": "execute_result"
    }
   ],
   "source": [
    "#which player?\n",
    "player = 0\n",
    "\n",
    "#Use ownwer account\n",
    "web3.eth.default_account = web3.eth.accounts[player]\n",
    "\n",
    "# Unlock selected account (which has ben set to the default_account in the previous section)\n",
    "web3.geth.personal.unlock_account(web3.eth.default_account, \"Tennis1833\")\n",
    "\n",
    "\n",
    "#bet\n",
    "bet = [2, 5, 9, 9, 8, 9]\n",
    "\n",
    "tx_hash = contract.functions.buyTicket(bet).transact(\n",
    "    {\n",
    "     'gas': 420000, \n",
    "     'gasPrice': 1000000000,\n",
    "     'value': 5000000000000000000})\n",
    "\n",
    "print(tx_hash)"
   ]
  },
  {
   "cell_type": "markdown",
   "id": "21577602",
   "metadata": {},
   "source": [
    "## Player 1 enters the lottery"
   ]
  },
  {
   "cell_type": "code",
   "execution_count": 13,
   "id": "f8f1a1c2",
   "metadata": {},
   "outputs": [
    {
     "data": {
      "text/plain": [
       "True"
      ]
     },
     "execution_count": 13,
     "metadata": {},
     "output_type": "execute_result"
    }
   ],
   "source": [
    "#which player?\n",
    "player = 1\n",
    "\n",
    "#Use ownwer account\n",
    "web3.eth.default_account = web3.eth.accounts[player]\n",
    "\n",
    "# Unlock selected account (which has ben set to the default_account in the previous section)\n",
    "web3.geth.personal.unlock_account(web3.eth.default_account, \"Tennis1833\")\n",
    "\n",
    "#bet\n",
    "bet = [2, 5, 9, 9, 8, 9]\n",
    "\n",
    "tx_hash = contract.functions.buyTicket(bet).transact(\n",
    "    {\n",
    "     'gas': 420000, \n",
    "     'gasPrice': 1000000000,\n",
    "     'value': 5000000000000000000})\n",
    "\n",
    "print(tx_hash)"
   ]
  },
  {
   "cell_type": "markdown",
   "id": "98750fbd",
   "metadata": {},
   "source": [
    "## Player 2 enters the lottery"
   ]
  },
  {
   "cell_type": "code",
   "execution_count": 65,
   "id": "4ed60082",
   "metadata": {},
   "outputs": [
    {
     "data": {
      "text/plain": [
       "True"
      ]
     },
     "execution_count": 65,
     "metadata": {},
     "output_type": "execute_result"
    }
   ],
   "source": [
    "#which player?\n",
    "player = 2\n",
    "\n",
    "#Use ownwer account\n",
    "web3.eth.default_account = web3.eth.accounts[player]\n",
    "\n",
    "# Unlock selected account (which has ben set to the default_account in the previous section)\n",
    "web3.geth.personal.unlock_account(web3.eth.default_account, \"Tennis1833\")\n",
    "\n",
    "#bet\n",
    "bet = [2, 5, 9, 9, 8, 9]\n",
    "\n",
    "tx_hash = contract.functions.buyTicket(bet).transact(\n",
    "    {\n",
    "     'gas': 420000, \n",
    "     'gasPrice': 1000000000,\n",
    "     'value': 5000000000000000000})\n",
    "\n",
    "print(tx_hash)"
   ]
  },
  {
   "cell_type": "markdown",
   "id": "fd54b0fa",
   "metadata": {},
   "source": [
    "## Player 3 enters the lottery"
   ]
  },
  {
   "cell_type": "code",
   "execution_count": 65,
   "id": "c4635183",
   "metadata": {},
   "outputs": [
    {
     "data": {
      "text/plain": [
       "True"
      ]
     },
     "execution_count": 65,
     "metadata": {},
     "output_type": "execute_result"
    }
   ],
   "source": [
    "#which player?\n",
    "player = 3\n",
    "\n",
    "#Use ownwer account\n",
    "web3.eth.default_account = web3.eth.accounts[player]\n",
    "\n",
    "# Unlock selected account (which has ben set to the default_account in the previous section)\n",
    "web3.geth.personal.unlock_account(web3.eth.default_account, \"Tennis1833\")\n",
    "\n",
    "#bet\n",
    "bet = [2, 5, 9, 9, 8, 9]\n",
    "\n",
    "tx_hash = contract.functions.buyTicket(bet).transact(\n",
    "    {\n",
    "     'gas': 420000, \n",
    "     'gasPrice': 1000000000,\n",
    "     'value': 5000000000000000000})\n",
    "\n",
    "print(tx_hash)"
   ]
  },
  {
   "cell_type": "markdown",
   "id": "774237f3",
   "metadata": {},
   "source": [
    "## Player 4 enters the lottery"
   ]
  },
  {
   "cell_type": "code",
   "execution_count": 65,
   "id": "3f4a1b3c",
   "metadata": {},
   "outputs": [
    {
     "data": {
      "text/plain": [
       "True"
      ]
     },
     "execution_count": 65,
     "metadata": {},
     "output_type": "execute_result"
    }
   ],
   "source": [
    "#which player?\n",
    "player = 4\n",
    "\n",
    "#Use ownwer account\n",
    "web3.eth.default_account = web3.eth.accounts[player]\n",
    "\n",
    "# Unlock selected account (which has ben set to the default_account in the previous section)\n",
    "web3.geth.personal.unlock_account(web3.eth.default_account, \"Tennis1833\")\n",
    "\n",
    "#bet\n",
    "bet = [2, 5, 9, 9, 8, 9]\n",
    "\n",
    "tx_hash = contract.functions.buyTicket(bet).transact(\n",
    "    {\n",
    "     'gas': 420000, \n",
    "     'gasPrice': 1000000000,\n",
    "     'value': 5000000000000000000})\n",
    "\n",
    "print(tx_hash)"
   ]
  },
  {
   "cell_type": "markdown",
   "id": "ab87e92c",
   "metadata": {},
   "source": [
    "# Ask my Ticketnumber"
   ]
  },
  {
   "cell_type": "code",
   "execution_count": 67,
   "id": "eb2556de",
   "metadata": {},
   "outputs": [
    {
     "data": {
      "text/plain": [
       "[2, 5, 9, 9, 8, 9]"
      ]
     },
     "execution_count": 67,
     "metadata": {},
     "output_type": "execute_result"
    }
   ],
   "source": [
    "contract.functions.getMyTicketNumbers().call()"
   ]
  },
  {
   "cell_type": "markdown",
   "id": "462e5360",
   "metadata": {},
   "source": [
    "# How much money is in the lottery pot?"
   ]
  },
  {
   "cell_type": "code",
   "execution_count": null,
   "id": "c68ffb81",
   "metadata": {},
   "outputs": [],
   "source": [
    "contract.functions.getTotalLotteryPot().call()"
   ]
  },
  {
   "cell_type": "markdown",
   "id": "7e158a56",
   "metadata": {},
   "source": [
    "# Selecting winners and pay out rewards\n",
    "# with the EndLottery function"
   ]
  },
  {
   "cell_type": "code",
   "execution_count": 72,
   "id": "58505ed2",
   "metadata": {},
   "outputs": [
    {
     "data": {
      "text/plain": [
       "HexBytes('0x9d893e09876e2d5c44f577b20c3135258b230d734031fdbdad62e2b72ff427d1')"
      ]
     },
     "execution_count": 72,
     "metadata": {},
     "output_type": "execute_result"
    }
   ],
   "source": [
    "#Use ownwer account\n",
    "web3.eth.default_account = web3.eth.accounts[0]\n",
    "\n",
    "# Unlock selected account (which has ben set to the default_account in the previous section)\n",
    "web3.geth.personal.unlock_account(web3.eth.default_account, \"Tennis1833\")\n",
    "\n",
    "# Call a function on the contract\n",
    "contract.functions.EndLottery().transact({\n",
    "     'gas': 420000, \n",
    "     'gasPrice': 1000000000})\n"
   ]
  },
  {
   "cell_type": "markdown",
   "id": "2d79d68e",
   "metadata": {},
   "source": [
    "# Testing functions"
   ]
  },
  {
   "cell_type": "markdown",
   "id": "89f800ad",
   "metadata": {},
   "source": [
    "## Pull function"
   ]
  },
  {
   "cell_type": "code",
   "execution_count": 90,
   "id": "67be9a9e",
   "metadata": {},
   "outputs": [
    {
     "data": {
      "text/plain": [
       "HexBytes('0xaaa82aac4db30a6872d4f94e1a6a42fb72f8d8d549c01af35c887d0070874e75')"
      ]
     },
     "execution_count": 90,
     "metadata": {},
     "output_type": "execute_result"
    }
   ],
   "source": [
    "#Use ownwer account\n",
    "web3.eth.default_account = web3.eth.accounts[0]\n",
    "\n",
    "# Unlock selected account (which has ben set to the default_account in the previous section)\n",
    "web3.geth.personal.unlock_account(web3.eth.default_account, \"Tennis1833\")\n",
    "\n",
    "# Call a function on the contract\n",
    "contract.functions.Pull().transact({\n",
    "     'gas': 420000, \n",
    "     'gasPrice': 1000000000})"
   ]
  }
 ],
 "metadata": {
  "kernelspec": {
   "display_name": "Python 3 (ipykernel)",
   "language": "python",
   "name": "python3"
  },
  "language_info": {
   "codemirror_mode": {
    "name": "ipython",
    "version": 3
   },
   "file_extension": ".py",
   "mimetype": "text/x-python",
   "name": "python",
   "nbconvert_exporter": "python",
   "pygments_lexer": "ipython3",
   "version": "3.11.1"
  }
 },
 "nbformat": 4,
 "nbformat_minor": 5
}
