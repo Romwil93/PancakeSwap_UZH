{
 "cells": [
  {
   "cell_type": "markdown",
   "id": "great-tiffany",
   "metadata": {},
   "source": [
    "# Blockchain and Crypto Economics"
   ]
  },
  {
   "cell_type": "code",
   "execution_count": 1,
   "id": "a52dff9e",
   "metadata": {},
   "outputs": [
    {
     "name": "stdout",
     "output_type": "stream",
     "text": [
      "3.11.1 (tags/v3.11.1:a7a450f, Dec  6 2022, 19:58:39) [MSC v.1934 64 bit (AMD64)]\n"
     ]
    }
   ],
   "source": [
    "import sys\n",
    "print(sys.version)"
   ]
  },
  {
   "cell_type": "code",
   "execution_count": 14,
   "id": "4e1d6266",
   "metadata": {},
   "outputs": [],
   "source": [
    "### Pancake Lottery Contract"
   ]
  },
  {
   "cell_type": "code",
   "execution_count": 2,
   "id": "permanent-parent",
   "metadata": {},
   "outputs": [
    {
     "name": "stdout",
     "output_type": "stream",
     "text": [
      "True\n"
     ]
    }
   ],
   "source": [
    "# Import the Web3 object and establish an HTTP connection\n",
    "# See also: https://medium.com/validitylabs/\n",
    "# how-to-interact-with-the-ethereum-blockchain-and-create-a-database-with-python-and-sql-3dcbd579b3c0\n",
    "\n",
    "from web3 import Web3 \n",
    "\n",
    "\n",
    "#web3 = Web3(Web3.HTTPProvider(\"https://vm-216.s3it.uzh.ch\"))\n",
    "web3 = Web3(Web3.HTTPProvider(\"http://localhost:8545\"))\n",
    "\n",
    "print(web3.isConnected())"
   ]
  },
  {
   "cell_type": "code",
   "execution_count": 3,
   "id": "7a99700d",
   "metadata": {},
   "outputs": [
    {
     "name": "stdout",
     "output_type": "stream",
     "text": [
      "6\n",
      "41.310097759\n"
     ]
    }
   ],
   "source": [
    "\n",
    "balance = web3.eth.get_balance(web3.eth.accounts[0])\n",
    "print(web3.fromWei(balance, \"ether\"))\n",
    "balance = web3.eth.get_balance(\"0x5d978c919F4FCeaE3a922a2A55e9D48e7a58435b\")\n",
    "print(web3.fromWei(balance, \"ether\"))"
   ]
  },
  {
   "cell_type": "code",
   "execution_count": 12,
   "id": "8ca15fdd",
   "metadata": {},
   "outputs": [
    {
     "name": "stdout",
     "output_type": "stream",
     "text": [
      "['0x82179f5b9d17F3c982c8C131CfaE6Fe1E88387EF', '0x79e741a010B4AEA0fAa42582C13C802B5Bfe090D', '0x37bD50787D6db5a0AC116434E1bEa40FF0860F2c', '0x926895b66f1f431d881B3fda6Aa45C5FF485067D', '0x8F62674dfB637CD331F366c46ec87D8682eB9e8e', '0x5A6797f86E85f386Ba1028B054Bdbab059be8c89', '0x3DF5302654c03A9fcC29bD9bD58fe6817033FF58']\n",
      "0x82179f5b9d17F3c982c8C131CfaE6Fe1E88387EF\n"
     ]
    }
   ],
   "source": [
    "web3.eth.default_account = web3.eth.accounts[0]\n",
    "print(web3.eth.accounts)\n",
    "print(web3.eth.accounts[0])"
   ]
  },
  {
   "cell_type": "code",
   "execution_count": 6,
   "id": "a7d3ed26",
   "metadata": {},
   "outputs": [],
   "source": [
    "#read abi\n",
    "# Interract with Smart contracts\n",
    "# see also: https://medium.com/deepyr/interacting-with-ethereum-using-web3-py-and-jupyter-notebooks-e4207afa0085\n",
    "\n",
    "# ABI code of the contract; Stored in a file (copied from Remix)\n",
    "lottery_abi_path = \"./UZHPancakeLottery.abi\"\n",
    "obj_file = open(lottery_abi_path, \"r\")\n",
    "lottery_abi = obj_file.read()"
   ]
  },
  {
   "cell_type": "code",
   "execution_count": 7,
   "id": "5bc631cc",
   "metadata": {},
   "outputs": [],
   "source": [
    "# Create an instance of the contract object\n",
    "contract = web3.eth.contract(address=\"0xa247d1634a0ea5Cd8Dc144c8fBb214C5c2D73194\", abi=lottery_abi)"
   ]
  },
  {
   "cell_type": "code",
   "execution_count": 8,
   "id": "b1a051dd",
   "metadata": {},
   "outputs": [
    {
     "name": "stdout",
     "output_type": "stream",
     "text": [
      "5\n"
     ]
    }
   ],
   "source": [
    "# Call a function on the contract\n",
    "result = contract.functions.getTicketPrice().call()\n",
    "print(result)"
   ]
  },
  {
   "cell_type": "code",
   "execution_count": 18,
   "id": "663305eb",
   "metadata": {},
   "outputs": [
    {
     "name": "stdout",
     "output_type": "stream",
     "text": [
      "b'\\x07\\xd5/[,6\\x14|\\x81\\x7f\\xf6\\xa2\\r\\xed0\\x80\\x0f\\xd5ls\\\\\\x0f\\xec}\\x9d}\\r\\x89\\xe4\\xad\\xd2\\x9b'\n"
     ]
    }
   ],
   "source": [
    "# Unlock selected account (which has ben set to the default_account in the previous section)\n",
    "web3.geth.personal.unlock_account(web3.eth.default_account, \"Tennis1833\")\n",
    "# Create token via the smart contract\n",
    "tx_hash = contract.functions.buyTicket([1,2,3,4,5,6]).transact(\n",
    "    {\n",
    "     'gas': 420000, \n",
    "     'gasPrice': 1000000000,\n",
    "     'value': 5000000000000000000})\n",
    "\n",
    "print(tx_hash)"
   ]
  },
  {
   "cell_type": "code",
   "execution_count": 21,
   "id": "eb2556de",
   "metadata": {},
   "outputs": [
    {
     "data": {
      "text/plain": [
       "[1, 2, 3, 4, 5, 6]"
      ]
     },
     "execution_count": 21,
     "metadata": {},
     "output_type": "execute_result"
    }
   ],
   "source": [
    "contract.functions.getMyTicketNumbers().call()"
   ]
  },
  {
   "cell_type": "code",
   "execution_count": 23,
   "id": "199c5a67",
   "metadata": {},
   "outputs": [
    {
     "ename": "ABIFunctionNotFound",
     "evalue": "(\"The function 'getTotalLotteryPot' was not found in this contract's abi. \", 'Are you sure you provided the correct contract abi?')",
     "output_type": "error",
     "traceback": [
      "\u001b[1;31m---------------------------------------------------------------------------\u001b[0m",
      "\u001b[1;31mABIFunctionNotFound\u001b[0m                       Traceback (most recent call last)",
      "Cell \u001b[1;32mIn[23], line 1\u001b[0m\n\u001b[1;32m----> 1\u001b[0m \u001b[43mcontract\u001b[49m\u001b[38;5;241;43m.\u001b[39;49m\u001b[43mfunctions\u001b[49m\u001b[38;5;241;43m.\u001b[39;49m\u001b[43mgetTotalLotteryPot\u001b[49m()\u001b[38;5;241m.\u001b[39mcall()\n",
      "File \u001b[1;32mC:\\Python311\\Lib\\site-packages\\web3\\contract.py:194\u001b[0m, in \u001b[0;36mContractFunctions.__getattr__\u001b[1;34m(self, function_name)\u001b[0m\n\u001b[0;32m    189\u001b[0m     \u001b[38;5;28;01mraise\u001b[39;00m NoABIFunctionsFound(\n\u001b[0;32m    190\u001b[0m         \u001b[38;5;124m\"\u001b[39m\u001b[38;5;124mThe abi for this contract contains no function definitions. \u001b[39m\u001b[38;5;124m\"\u001b[39m,\n\u001b[0;32m    191\u001b[0m         \u001b[38;5;124m\"\u001b[39m\u001b[38;5;124mAre you sure you provided the correct contract abi?\u001b[39m\u001b[38;5;124m\"\u001b[39m\n\u001b[0;32m    192\u001b[0m     )\n\u001b[0;32m    193\u001b[0m \u001b[38;5;28;01melif\u001b[39;00m function_name \u001b[38;5;129;01mnot\u001b[39;00m \u001b[38;5;129;01min\u001b[39;00m \u001b[38;5;28mself\u001b[39m\u001b[38;5;241m.\u001b[39m\u001b[38;5;18m__dict__\u001b[39m[\u001b[38;5;124m'\u001b[39m\u001b[38;5;124m_functions\u001b[39m\u001b[38;5;124m'\u001b[39m]:\n\u001b[1;32m--> 194\u001b[0m     \u001b[38;5;28;01mraise\u001b[39;00m ABIFunctionNotFound(\n\u001b[0;32m    195\u001b[0m         \u001b[38;5;124m\"\u001b[39m\u001b[38;5;124mThe function \u001b[39m\u001b[38;5;124m'\u001b[39m\u001b[38;5;132;01m{}\u001b[39;00m\u001b[38;5;124m'\u001b[39m\u001b[38;5;124m was not found in this contract\u001b[39m\u001b[38;5;124m'\u001b[39m\u001b[38;5;124ms abi. \u001b[39m\u001b[38;5;124m\"\u001b[39m\u001b[38;5;241m.\u001b[39mformat(function_name),\n\u001b[0;32m    196\u001b[0m         \u001b[38;5;124m\"\u001b[39m\u001b[38;5;124mAre you sure you provided the correct contract abi?\u001b[39m\u001b[38;5;124m\"\u001b[39m\n\u001b[0;32m    197\u001b[0m     )\n\u001b[0;32m    198\u001b[0m \u001b[38;5;28;01melse\u001b[39;00m:\n\u001b[0;32m    199\u001b[0m     \u001b[38;5;28;01mreturn\u001b[39;00m \u001b[38;5;28msuper\u001b[39m()\u001b[38;5;241m.\u001b[39m\u001b[38;5;21m__getattribute__\u001b[39m(function_name)\n",
      "\u001b[1;31mABIFunctionNotFound\u001b[0m: (\"The function 'getTotalLotteryPot' was not found in this contract's abi. \", 'Are you sure you provided the correct contract abi?')"
     ]
    }
   ],
   "source": [
    "contract.functions.getTotalLotteryPot().call()"
   ]
  }
 ],
 "metadata": {
  "kernelspec": {
   "display_name": "Python 3 (ipykernel)",
   "language": "python",
   "name": "python3"
  },
  "language_info": {
   "codemirror_mode": {
    "name": "ipython",
    "version": 3
   },
   "file_extension": ".py",
   "mimetype": "text/x-python",
   "name": "python",
   "nbconvert_exporter": "python",
   "pygments_lexer": "ipython3",
   "version": "3.11.1"
  }
 },
 "nbformat": 4,
 "nbformat_minor": 5
}
