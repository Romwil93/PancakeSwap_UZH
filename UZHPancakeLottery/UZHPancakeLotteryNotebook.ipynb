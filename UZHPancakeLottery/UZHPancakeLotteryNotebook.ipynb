{
 "cells": [
  {
   "cell_type": "markdown",
   "id": "great-tiffany",
   "metadata": {},
   "source": [
    "# Blockchain and Crypto Economics - Pancake Lottery Contract"
   ]
  },
  {
   "cell_type": "markdown",
   "id": "d499b1cc",
   "metadata": {},
   "source": [
    "# Loading the Modules and connecting to UZHETH Blockchain"
   ]
  },
  {
   "cell_type": "code",
   "execution_count": 3,
   "id": "permanent-parent",
   "metadata": {},
   "outputs": [
    {
     "name": "stdout",
     "output_type": "stream",
     "text": [
      "True\n"
     ]
    }
   ],
   "source": [
    "# Import the Web3 object and establish an HTTP connection\n",
    "# See also: https://medium.com/validitylabs/\n",
    "# how-to-interact-with-the-ethereum-blockchain-and-create-a-database-with-python-and-sql-3dcbd579b3c0\n",
    "\n",
    "from web3 import Web3 \n",
    "\n",
    "\n",
    "# Connecting to the UZHETH Blockchain\n",
    "web3 = Web3(Web3.HTTPProvider(\"http://localhost:8545\"))\n",
    "\n",
    "# Connection test\n",
    "print(web3.isConnected())"
   ]
  },
  {
   "cell_type": "markdown",
   "id": "7fe269cd",
   "metadata": {},
   "source": [
    "# Get the Account address & balance of lottery players"
   ]
  },
  {
   "cell_type": "markdown",
   "id": "33dbb412",
   "metadata": {},
   "source": [
    "## Player 0 - Lottery owner"
   ]
  },
  {
   "cell_type": "code",
   "execution_count": 43,
   "id": "7a99700d",
   "metadata": {
    "scrolled": false
   },
   "outputs": [
    {
     "name": "stdout",
     "output_type": "stream",
     "text": [
      "0x82179f5b9d17F3c982c8C131CfaE6Fe1E88387EF\n",
      "10.995516265\n"
     ]
    }
   ],
   "source": [
    "print(web3.eth.accounts[0])\n",
    "print(web3.fromWei(web3.eth.get_balance(web3.eth.accounts[0]), \"ether\"))"
   ]
  },
  {
   "cell_type": "markdown",
   "id": "6126a637",
   "metadata": {},
   "source": [
    "## Player 1"
   ]
  },
  {
   "cell_type": "code",
   "execution_count": 44,
   "id": "37129da8",
   "metadata": {
    "scrolled": true
   },
   "outputs": [
    {
     "name": "stdout",
     "output_type": "stream",
     "text": [
      "0x79e741a010B4AEA0fAa42582C13C802B5Bfe090D\n",
      "5.999790394\n"
     ]
    }
   ],
   "source": [
    "print(web3.eth.accounts[1])\n",
    "print(web3.fromWei(web3.eth.get_balance(web3.eth.accounts[1]), \"ether\"))"
   ]
  },
  {
   "cell_type": "markdown",
   "id": "15dd6c92",
   "metadata": {},
   "source": [
    "## Player 2"
   ]
  },
  {
   "cell_type": "code",
   "execution_count": 45,
   "id": "65f18304",
   "metadata": {},
   "outputs": [
    {
     "name": "stdout",
     "output_type": "stream",
     "text": [
      "0x37bD50787D6db5a0AC116434E1bEa40FF0860F2c\n",
      "0.999790394\n"
     ]
    }
   ],
   "source": [
    "print(web3.eth.accounts[2])\n",
    "print(web3.fromWei(web3.eth.get_balance(web3.eth.accounts[2]), \"ether\"))"
   ]
  },
  {
   "cell_type": "markdown",
   "id": "fe6e5767",
   "metadata": {},
   "source": [
    "## Player 3"
   ]
  },
  {
   "cell_type": "code",
   "execution_count": 46,
   "id": "abb459b8",
   "metadata": {},
   "outputs": [
    {
     "name": "stdout",
     "output_type": "stream",
     "text": [
      "0x926895b66f1f431d881B3fda6Aa45C5FF485067D\n",
      "0.999790394\n"
     ]
    }
   ],
   "source": [
    "print(web3.eth.accounts[3])\n",
    "print(web3.fromWei(web3.eth.get_balance(web3.eth.accounts[3]), \"ether\"))"
   ]
  },
  {
   "cell_type": "markdown",
   "id": "3c2740f5",
   "metadata": {},
   "source": [
    "## Player 4"
   ]
  },
  {
   "cell_type": "code",
   "execution_count": 47,
   "id": "cc36f915",
   "metadata": {},
   "outputs": [
    {
     "name": "stdout",
     "output_type": "stream",
     "text": [
      "0x8F62674dfB637CD331F366c46ec87D8682eB9e8e\n",
      "0.999790394\n"
     ]
    }
   ],
   "source": [
    "print(web3.eth.accounts[4])\n",
    "print(web3.fromWei(web3.eth.get_balance(web3.eth.accounts[4]), \"ether\"))"
   ]
  },
  {
   "cell_type": "markdown",
   "id": "1d3bc439",
   "metadata": {},
   "source": [
    "# Here we do create an instance of the lottery contract"
   ]
  },
  {
   "cell_type": "code",
   "execution_count": 5,
   "id": "a7d3ed26",
   "metadata": {},
   "outputs": [],
   "source": [
    "#read abi\n",
    "# Interract with Smart contracts\n",
    "# see also: https://medium.com/deepyr/interacting-with-ethereum-using-web3-py-and-jupyter-notebooks-e4207afa0085\n",
    "\n",
    "# ABI code of the contract; Stored in a file (copied from Remix)\n",
    "lottery_abi_path = \"./UZHPancakeLottery.abi\"\n",
    "obj_file = open(lottery_abi_path, \"r\")\n",
    "lottery_abi = obj_file.read()\n",
    "\n",
    "# Create an instance of the contract object\n",
    "contract = web3.eth.contract(address=\"0x1284908A351c9303594F14aa1A807Ee550ae44D4\", abi=lottery_abi)"
   ]
  },
  {
   "cell_type": "markdown",
   "id": "74baf55a",
   "metadata": {},
   "source": [
    "# Starting the lottery with function call BeginLottery"
   ]
  },
  {
   "cell_type": "code",
   "execution_count": 40,
   "id": "b1a051dd",
   "metadata": {},
   "outputs": [
    {
     "name": "stdout",
     "output_type": "stream",
     "text": [
      "b'\\x8fr\\xe4z\\x06\\x18D\\n\\xd1\\xba8\\x17\\xba\\xf1\\xca zM\\x1a\\\\C\\x17\\xd9o\\x05R\\x88\\xf6\\xa0Y@\\xf4'\n"
     ]
    }
   ],
   "source": [
    "#Use ownwer account\n",
    "web3.eth.default_account = web3.eth.accounts[0]\n",
    "\n",
    "# Unlock selected account (which has ben set to the default_account in the previous section)\n",
    "web3.geth.personal.unlock_account(web3.eth.default_account, \"Tennis1833\")\n",
    "\n",
    "# Call a function on the contract\n",
    "tx_hash = contract.functions.BeginLottery().transact({\n",
    "     'gas': 420000, \n",
    "     'gasPrice': 1000000000})\n",
    "\n",
    "print(tx_hash)"
   ]
  },
  {
   "cell_type": "markdown",
   "id": "b881dee7",
   "metadata": {},
   "source": [
    "## We are rewriting the win array for this presentation"
   ]
  },
  {
   "cell_type": "code",
   "execution_count": 7,
   "id": "004aa471",
   "metadata": {},
   "outputs": [
    {
     "name": "stdout",
     "output_type": "stream",
     "text": [
      "b'\\xb0\\x87\\x97Lr1B\\xa8\\xf4\\xe8\\x9c\\xfe\\xae<\\xec\\x94\\x84\\x0c\\xa0\\xc1t\\xe5fv\\xa8\\x99\\xb8\\xc2\\xd3\\xc1\\t)'\n"
     ]
    }
   ],
   "source": [
    "# Call a function on the contract\n",
    "tx_hash = contract.functions.setWinningNumber([1,2,3,4,5,6]).transact({\n",
    "     'gas': 420000, \n",
    "     'gasPrice': 1000000000})\n",
    "\n",
    "print(tx_hash)"
   ]
  },
  {
   "cell_type": "markdown",
   "id": "d077d834",
   "metadata": {},
   "source": [
    "## Ask for winning numbers just for test purposes!!!!"
   ]
  },
  {
   "cell_type": "code",
   "execution_count": 8,
   "id": "ebf7d24d",
   "metadata": {
    "scrolled": true
   },
   "outputs": [
    {
     "name": "stdout",
     "output_type": "stream",
     "text": [
      "[1, 2, 3, 4, 5, 6]\n"
     ]
    }
   ],
   "source": [
    "tx_hash = contract.functions.getWinningNumber().call( )\n",
    "print(tx_hash)"
   ]
  },
  {
   "cell_type": "markdown",
   "id": "f17e39da",
   "metadata": {},
   "source": [
    "# Ask for ticket price - to know how much we have to send"
   ]
  },
  {
   "cell_type": "code",
   "execution_count": 62,
   "id": "a612ff6b",
   "metadata": {},
   "outputs": [
    {
     "data": {
      "text/plain": [
       "5"
      ]
     },
     "execution_count": 62,
     "metadata": {},
     "output_type": "execute_result"
    }
   ],
   "source": [
    "tx_hash = contract.functions.getTicketPrice().call( )\n",
    "print(tx_hash)"
   ]
  },
  {
   "cell_type": "markdown",
   "id": "501fb657",
   "metadata": {},
   "source": [
    "# Enter Lottery with required ETH"
   ]
  },
  {
   "cell_type": "markdown",
   "id": "7888d6cf",
   "metadata": {},
   "source": [
    "## Player 0 (owner) enters the lottery"
   ]
  },
  {
   "cell_type": "code",
   "execution_count": 9,
   "id": "17f22373",
   "metadata": {},
   "outputs": [
    {
     "name": "stdout",
     "output_type": "stream",
     "text": [
      "b',Lxf\\x80\\x82\\xa9bF\\xa1!\\xed\\xf5\\x87V\\x1bH\\xe8j\\xd6O\\xf0W\\x12i\\xcbi\\x94\\x1f\\xc17O'\n"
     ]
    }
   ],
   "source": [
    "#which player?\n",
    "player = 0\n",
    "\n",
    "#Use ownwer account\n",
    "web3.eth.default_account = web3.eth.accounts[player]\n",
    "\n",
    "# Unlock selected account (which has ben set to the default_account in the previous section)\n",
    "web3.geth.personal.unlock_account(web3.eth.default_account, \"Tennis1833\")\n",
    "\n",
    "\n",
    "#bet\n",
    "bet = [1,2,3,4,5,6]\n",
    "\n",
    "tx_hash = contract.functions.buyTicket(bet).transact(\n",
    "    {\n",
    "     'gas': 420000, \n",
    "     'gasPrice': 1000000000,\n",
    "     'value': 5000000000000000000})\n",
    "\n",
    "print(tx_hash)"
   ]
  },
  {
   "cell_type": "markdown",
   "id": "82bea5d5",
   "metadata": {},
   "source": [
    "## Player 1 enters the lottery"
   ]
  },
  {
   "cell_type": "code",
   "execution_count": 10,
   "id": "ed74db7b",
   "metadata": {},
   "outputs": [
    {
     "name": "stdout",
     "output_type": "stream",
     "text": [
      "b'\\x85q\\x9a8\\xce\\x82\\x0c\\x8ak\\xd7\\x98\\xa8q\\x07\\x0f\\x8f^\\xae\\xf2\\xf60F\\xd2\\x12\\x1a+\\xeeVNP\\x0eq'\n"
     ]
    }
   ],
   "source": [
    "#which player?\n",
    "player = 1\n",
    "\n",
    "#Use ownwer account\n",
    "web3.eth.default_account = web3.eth.accounts[player]\n",
    "\n",
    "# Unlock selected account (which has ben set to the default_account in the previous section)\n",
    "web3.geth.personal.unlock_account(web3.eth.default_account, \"Tennis1833\")\n",
    "\n",
    "#bet\n",
    "bet = [1,2,3,4,5,3]\n",
    "\n",
    "tx_hash = contract.functions.buyTicket(bet).transact(\n",
    "    {\n",
    "     'gas': 420000, \n",
    "     'gasPrice': 1000000000,\n",
    "     'value': 5000000000000000000})\n",
    "\n",
    "print(tx_hash)"
   ]
  },
  {
   "cell_type": "markdown",
   "id": "8463bdcb",
   "metadata": {},
   "source": [
    "## Player 2 enters the lottery"
   ]
  },
  {
   "cell_type": "code",
   "execution_count": 11,
   "id": "90950797",
   "metadata": {},
   "outputs": [
    {
     "name": "stdout",
     "output_type": "stream",
     "text": [
      "b'\\xc9\\xe6B\\xe1\\xf0es\\x01\\x1d\\xea\\xcd`Y\\x0b\\x80<\\xe3\\x86\\x12g$\\xae\\x03\\xa6\\x03{\\xde\\xb2\\xb9\\r-\\xe5'\n"
     ]
    }
   ],
   "source": [
    "#which player?\n",
    "player = 2\n",
    "\n",
    "#Use ownwer account\n",
    "web3.eth.default_account = web3.eth.accounts[player]\n",
    "\n",
    "# Unlock selected account (which has ben set to the default_account in the previous section)\n",
    "web3.geth.personal.unlock_account(web3.eth.default_account, \"Tennis1833\")\n",
    "\n",
    "#bet\n",
    "bet = [5,1,2,3,4,5]\n",
    "\n",
    "tx_hash = contract.functions.buyTicket(bet).transact(\n",
    "    {\n",
    "     'gas': 420000, \n",
    "     'gasPrice': 1000000000,\n",
    "     'value': 5000000000000000000})\n",
    "\n",
    "print(tx_hash)"
   ]
  },
  {
   "cell_type": "markdown",
   "id": "a36f9afe",
   "metadata": {},
   "source": [
    "## Player 3 enters the lottery"
   ]
  },
  {
   "cell_type": "code",
   "execution_count": 12,
   "id": "09fd5364",
   "metadata": {},
   "outputs": [
    {
     "name": "stdout",
     "output_type": "stream",
     "text": [
      "b'2\\xaa\\x9a:t\\xf6\\x01o&\\x1d\\xb5{\\x05m\\x91\\\\\\xb1\\x95\\x80\\x1b\\x97 \\xd6\\xb1\\xda\\xd9X)\\x92\\xa5i\\xc2'\n"
     ]
    }
   ],
   "source": [
    "#which player?\n",
    "player = 3\n",
    "\n",
    "#Use ownwer account\n",
    "web3.eth.default_account = web3.eth.accounts[player]\n",
    "\n",
    "# Unlock selected account (which has ben set to the default_account in the previous section)\n",
    "web3.geth.personal.unlock_account(web3.eth.default_account, \"Tennis1833\")\n",
    "\n",
    "#bet\n",
    "bet = [2,3,4,7,8,9]\n",
    "\n",
    "tx_hash = contract.functions.buyTicket(bet).transact(\n",
    "    {\n",
    "     'gas': 420000, \n",
    "     'gasPrice': 1000000000,\n",
    "     'value': 5000000000000000000})\n",
    "\n",
    "print(tx_hash)"
   ]
  },
  {
   "cell_type": "markdown",
   "id": "cf45e7c9",
   "metadata": {},
   "source": [
    "## Player 4 enters the lottery"
   ]
  },
  {
   "cell_type": "code",
   "execution_count": 13,
   "id": "7c9e7280",
   "metadata": {},
   "outputs": [
    {
     "name": "stdout",
     "output_type": "stream",
     "text": [
      "b'\\xb0\\xec\\xf7\\x80/\\xc8\\r\\xe3\\x14l\\x8aH\\xd6\\xc9\\x1f\\x9c\\xff\\xe6@\\x95\\xf5\\x95\\xc7n\\x8f\\xe3j%\\x00\\x99o\\xb1'\n"
     ]
    }
   ],
   "source": [
    "#which player?\n",
    "player = 4\n",
    "\n",
    "#Use ownwer account\n",
    "web3.eth.default_account = web3.eth.accounts[player]\n",
    "\n",
    "# Unlock selected account (which has ben set to the default_account in the previous section)\n",
    "web3.geth.personal.unlock_account(web3.eth.default_account, \"Tennis1833\")\n",
    "\n",
    "#bet\n",
    "bet = [5,8,7,8,9,3]\n",
    "\n",
    "tx_hash = contract.functions.buyTicket(bet).transact(\n",
    "    {\n",
    "     'gas': 420000, \n",
    "     'gasPrice': 1000000000,\n",
    "     'value': 5000000000000000000})\n",
    "\n",
    "print(tx_hash)"
   ]
  },
  {
   "cell_type": "markdown",
   "id": "ab87e92c",
   "metadata": {},
   "source": [
    "# Ask my Ticketnumber"
   ]
  },
  {
   "cell_type": "code",
   "execution_count": 19,
   "id": "eb2556de",
   "metadata": {},
   "outputs": [
    {
     "data": {
      "text/plain": [
       "[5, 8, 7, 8, 9, 3]"
      ]
     },
     "execution_count": 19,
     "metadata": {},
     "output_type": "execute_result"
    }
   ],
   "source": [
    "contract.functions.getMyTicketNumbers().call()"
   ]
  },
  {
   "cell_type": "markdown",
   "id": "dfd21ee4",
   "metadata": {},
   "source": [
    "# How much money is in the lottery pot?"
   ]
  },
  {
   "cell_type": "code",
   "execution_count": 42,
   "id": "13c7c8e1",
   "metadata": {
    "scrolled": true
   },
   "outputs": [
    {
     "data": {
      "text/plain": [
       "10"
      ]
     },
     "execution_count": 42,
     "metadata": {},
     "output_type": "execute_result"
    }
   ],
   "source": [
    "contract.functions.getTotalLotteryPot().call()"
   ]
  },
  {
   "cell_type": "markdown",
   "id": "7e158a56",
   "metadata": {},
   "source": [
    "# Calculating winners and pay out rewards with the EndLottery function"
   ]
  },
  {
   "cell_type": "code",
   "execution_count": 22,
   "id": "58505ed2",
   "metadata": {},
   "outputs": [
    {
     "data": {
      "text/plain": [
       "HexBytes('0xb7bd6ce8ba4a809355cac2c8a4d30235c5650f3f5e8bcde2d157aa84efa08573')"
      ]
     },
     "execution_count": 22,
     "metadata": {},
     "output_type": "execute_result"
    }
   ],
   "source": [
    "#Use ownwer account\n",
    "web3.eth.default_account = web3.eth.accounts[0]\n",
    "\n",
    "# Unlock selected account (which has ben set to the default_account in the previous section)\n",
    "web3.geth.personal.unlock_account(web3.eth.default_account, \"Tennis1833\")\n",
    "\n",
    "# Call a function on the contract\n",
    "contract.functions.EndLottery().transact({\n",
    "     'gas': 420000, \n",
    "     'gasPrice': 1000000000})\n"
   ]
  },
  {
   "cell_type": "markdown",
   "id": "2d79d68e",
   "metadata": {},
   "source": [
    "# Testing functions"
   ]
  },
  {
   "cell_type": "markdown",
   "id": "89f800ad",
   "metadata": {},
   "source": [
    "## Pull function"
   ]
  },
  {
   "cell_type": "code",
   "execution_count": 90,
   "id": "67be9a9e",
   "metadata": {},
   "outputs": [
    {
     "data": {
      "text/plain": [
       "HexBytes('0xaaa82aac4db30a6872d4f94e1a6a42fb72f8d8d549c01af35c887d0070874e75')"
      ]
     },
     "execution_count": 90,
     "metadata": {},
     "output_type": "execute_result"
    }
   ],
   "source": [
    "#Use ownwer account\n",
    "web3.eth.default_account = web3.eth.accounts[0]\n",
    "\n",
    "# Unlock selected account (which has ben set to the default_account in the previous section)\n",
    "web3.geth.personal.unlock_account(web3.eth.default_account, \"Tennis1833\")\n",
    "\n",
    "# Call a function on the contract\n",
    "contract.functions.Pull().transact({\n",
    "     'gas': 420000, \n",
    "     'gasPrice': 1000000000})"
   ]
  }
 ],
 "metadata": {
  "kernelspec": {
   "display_name": "Python 3 (ipykernel)",
   "language": "python",
   "name": "python3"
  },
  "language_info": {
   "codemirror_mode": {
    "name": "ipython",
    "version": 3
   },
   "file_extension": ".py",
   "mimetype": "text/x-python",
   "name": "python",
   "nbconvert_exporter": "python",
   "pygments_lexer": "ipython3",
   "version": "3.11.1"
  }
 },
 "nbformat": 4,
 "nbformat_minor": 5
}
